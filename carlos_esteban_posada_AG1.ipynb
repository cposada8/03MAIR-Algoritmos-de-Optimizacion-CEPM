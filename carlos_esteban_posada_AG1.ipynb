{
  "nbformat": 4,
  "nbformat_minor": 0,
  "metadata": {
    "colab": {
      "name": "carlos_esteban_posada-AG1.ipynb",
      "provenance": [],
      "toc_visible": true,
      "authorship_tag": "ABX9TyOx9R7XQu3cpSAuQ7V7D7yC",
      "include_colab_link": true
    },
    "kernelspec": {
      "name": "python3",
      "display_name": "Python 3"
    }
  },
  "cells": [
    {
      "cell_type": "markdown",
      "metadata": {
        "id": "view-in-github",
        "colab_type": "text"
      },
      "source": [
        "<a href=\"https://colab.research.google.com/github/cposada8/03MAIR-Algoritmos-de-Optimizacion-CEPM/blob/main/carlos_esteban_posada_AG1.ipynb\" target=\"_parent\"><img src=\"https://colab.research.google.com/assets/colab-badge.svg\" alt=\"Open In Colab\"/></a>"
      ]
    },
    {
      "cell_type": "markdown",
      "metadata": {
        "id": "imL3GPdguTjq"
      },
      "source": [
        "Actividad Guiada 1 del curso: Algoritmos de optimización"
      ]
    },
    {
      "cell_type": "markdown",
      "metadata": {
        "id": "5m4dwIjguEhI"
      },
      "source": [
        "**Nombre**: Carlos Esteban Posada  \r\n",
        "**URL**: https://colab.research.google.com/drive/1nLEhlOavPebfAYawy4A_KSPBgvXGXx7V?usp=sharing"
      ]
    },
    {
      "cell_type": "markdown",
      "metadata": {
        "id": "EU41z3usYpSa"
      },
      "source": [
        "# Introducción\r\n",
        "El presente trabajo corresponde a la primera actividad guiada del curso __algoritmos de optimización__\r\n",
        "\r\n",
        "Este trabajo consiste en la implementación práctica de algunos conceptos vistos en las primeras unidades del curso:\r\n",
        "* Algoritmos de ordenamiento\r\n",
        "* Técicas de diseño de algoritmos\r\n",
        "* Desarrollo de un problema opciónal: par de puntos más cercanos"
      ]
    },
    {
      "cell_type": "code",
      "metadata": {
        "id": "9bBy9_G9YlCs"
      },
      "source": [
        ""
      ],
      "execution_count": null,
      "outputs": []
    },
    {
      "cell_type": "code",
      "metadata": {
        "id": "eK6Sp_3M3g_y"
      },
      "source": [
        "# imports\r\n",
        "import numpy as np\r\n",
        "import random \r\n",
        "import matplotlib.pyplot as plt\r\n",
        "from time import time"
      ],
      "execution_count": 1,
      "outputs": []
    },
    {
      "cell_type": "code",
      "metadata": {
        "id": "BsAysgKaZTNl"
      },
      "source": [
        ""
      ],
      "execution_count": 1,
      "outputs": []
    },
    {
      "cell_type": "markdown",
      "metadata": {
        "id": "xVHVyfXdZXCd"
      },
      "source": [
        "# Algoritmos de ordenamiento [Opcional]\r\n",
        "En esta sección se realizará la impelmentación de los siguientes algoritmos de ordenamiento:\r\n",
        "* Insertion sort\r\n",
        "* Bubble sort\r\n",
        "* Selection sort\r\n",
        "* Merge sort"
      ]
    },
    {
      "cell_type": "markdown",
      "metadata": {
        "id": "22IjKk1-ZwMz"
      },
      "source": [
        "## Insertion sort\r\n",
        "Es un algoritmo de ordenamiento muy sencillo, pero a su vez, ineficiente. \r\n",
        "Logra un orden de complegidad __O(n)__ en el mejor de los casos, pero __O(n^2)__ en los casos peor y promedio"
      ]
    },
    {
      "cell_type": "code",
      "metadata": {
        "id": "laPTIQh9ZV4k"
      },
      "source": [
        "def insertion_sort(lista):\r\n",
        "  lista = lista.copy()\r\n",
        "  n = len(lista)\r\n",
        "  for i in range(1, n):\r\n",
        "    valor_actual = lista[i]\r\n",
        "    position = i\r\n",
        "    while position > 0 and lista[position-1] > valor_actual:\r\n",
        "      lista[position] = lista[position-1]\r\n",
        "      position -= 1\r\n",
        "    \r\n",
        "    lista[position] = valor_actual\r\n",
        "  return lista  "
      ],
      "execution_count": 2,
      "outputs": []
    },
    {
      "cell_type": "code",
      "metadata": {
        "colab": {
          "base_uri": "https://localhost:8080/"
        },
        "id": "YaBIKVyXaQ_i",
        "outputId": "e9e86879-989f-44ea-d581-f48523cff6ba"
      },
      "source": [
        "# prueba del algoritmo\r\n",
        "lista = [2, 3, 8, 6, 1]\r\n",
        "print(\"lista original\", lista)\r\n",
        "print(\"lista ordenada\", insertion_sort(lista))"
      ],
      "execution_count": 3,
      "outputs": [
        {
          "output_type": "stream",
          "text": [
            "lista original [2, 3, 8, 6, 1]\n",
            "lista ordenada [1, 2, 3, 6, 8]\n"
          ],
          "name": "stdout"
        }
      ]
    },
    {
      "cell_type": "markdown",
      "metadata": {
        "id": "fcDEEsLg4UaR"
      },
      "source": [
        "## Bubble sort"
      ]
    },
    {
      "cell_type": "code",
      "metadata": {
        "id": "XqHNTI4Q4WvY"
      },
      "source": [
        "def bubble_sort(lista):\r\n",
        "  lista = lista.copy()\r\n",
        "  n = len(lista)\r\n",
        "  for max_index in range(n-1, 0, -1):\r\n",
        "    for i in range(max_index):\r\n",
        "      if lista[i]>lista[i+1]:\r\n",
        "        lista[i], lista[i+1] = lista[i+1], lista[i] # swap the elements\r\n",
        "  return lista"
      ],
      "execution_count": 4,
      "outputs": []
    },
    {
      "cell_type": "code",
      "metadata": {
        "colab": {
          "base_uri": "https://localhost:8080/"
        },
        "id": "dh0jaT4rxWUV",
        "outputId": "521a2b9e-d6e1-4a17-fc55-4d2a5c79561d"
      },
      "source": [
        "# probamos con la misma lista del algoritmo anterior\r\n",
        "bubble_sort(lista)"
      ],
      "execution_count": 5,
      "outputs": [
        {
          "output_type": "execute_result",
          "data": {
            "text/plain": [
              "[1, 2, 3, 6, 8]"
            ]
          },
          "metadata": {
            "tags": []
          },
          "execution_count": 5
        }
      ]
    },
    {
      "cell_type": "markdown",
      "metadata": {
        "id": "tHjpxzj46f_R"
      },
      "source": [
        "## Selection sort\r\n",
        "Es un algoritmo que en cada iteración busca el elemento más grande (o pequeño) y lo sitúa en la posición que le corresponde. Es orden n^2 en todos los casos"
      ]
    },
    {
      "cell_type": "code",
      "metadata": {
        "id": "V3eqtAWG3hRZ"
      },
      "source": [
        "def selection_sort(lista):\r\n",
        "  lista = lista.copy()\r\n",
        "  n = len(lista)\r\n",
        "  for max_index in range(n, 0, -1):\r\n",
        "    max_elem_index = 0\r\n",
        "    max_elem = lista[max_elem_index]\r\n",
        "    for i in range(max_index):\r\n",
        "      if lista[i]>max_elem:\r\n",
        "        max_elem = lista[i]\r\n",
        "        max_elem_index = i\r\n",
        "    # swap max_elem_index with max_index\r\n",
        "    lista[max_elem_index], lista[max_index-1] = lista[max_index-1], lista[max_elem_index]\r\n",
        "  return lista"
      ],
      "execution_count": 6,
      "outputs": []
    },
    {
      "cell_type": "code",
      "metadata": {
        "colab": {
          "base_uri": "https://localhost:8080/"
        },
        "id": "g2X2H9rz3hZA",
        "outputId": "59a776aa-4937-4d91-c0f5-85c5e85aa18f"
      },
      "source": [
        "lista = [2, 3, 8, 6, 1]\r\n",
        "selection_sort(lista)"
      ],
      "execution_count": 7,
      "outputs": [
        {
          "output_type": "execute_result",
          "data": {
            "text/plain": [
              "[1, 2, 3, 6, 8]"
            ]
          },
          "metadata": {
            "tags": []
          },
          "execution_count": 7
        }
      ]
    },
    {
      "cell_type": "markdown",
      "metadata": {
        "id": "_cHWZ3lKI7a4"
      },
      "source": [
        "## Merge sort\r\n"
      ]
    },
    {
      "cell_type": "code",
      "metadata": {
        "id": "uQJZP37j3hin"
      },
      "source": [
        "# auxiliar function to implement merge sort\r\n",
        "def merge_ordered_lists(l1, l2):\r\n",
        "  # this function merges the lists l1 and l2\r\n",
        "  # so the resulted list is ordered. \r\n",
        "  # l1 and l2 must be ordered already\r\n",
        "  l_merged = []\r\n",
        "  while l1 and l2:\r\n",
        "    if l1[0]<l2[0]:\r\n",
        "      l_merged.append(l1.pop(0))\r\n",
        "    else:\r\n",
        "      l_merged.append(l2.pop(0))\r\n",
        "\r\n",
        "  # agregar el resto de la lista que sobrara (si alguna aún tiene elementos)\r\n",
        "  if l1:\r\n",
        "    l_merged += l1\r\n",
        "  else:\r\n",
        "    l_merged += l2\r\n",
        "  return l_merged"
      ],
      "execution_count": 8,
      "outputs": []
    },
    {
      "cell_type": "code",
      "metadata": {
        "id": "6LnLbKAzI5Di"
      },
      "source": [
        "def merge_sort(lista):\r\n",
        "  if len(lista) == 1:\r\n",
        "    return lista\r\n",
        "  else:\r\n",
        "    # parto a la mitad la lista\r\n",
        "    mid = len(lista)//2\r\n",
        "    left_list = lista[:mid]\r\n",
        "    right_list = lista[mid:]\r\n",
        "    return merge_ordered_lists(merge_sort(left_list), merge_sort(right_list))"
      ],
      "execution_count": 9,
      "outputs": []
    },
    {
      "cell_type": "code",
      "metadata": {
        "colab": {
          "base_uri": "https://localhost:8080/"
        },
        "id": "UOUlEH3cJ8hn",
        "outputId": "a27c3143-26bd-46e1-ea39-26d4fa5a265a"
      },
      "source": [
        "merge_sort(lista)"
      ],
      "execution_count": 10,
      "outputs": [
        {
          "output_type": "execute_result",
          "data": {
            "text/plain": [
              "[1, 2, 3, 6, 8]"
            ]
          },
          "metadata": {
            "tags": []
          },
          "execution_count": 10
        }
      ]
    },
    {
      "cell_type": "code",
      "metadata": {
        "id": "Ca_okZOOaviF"
      },
      "source": [
        ""
      ],
      "execution_count": 10,
      "outputs": []
    },
    {
      "cell_type": "markdown",
      "metadata": {
        "id": "AH9VAS-va_Wi"
      },
      "source": [
        "## Comparación de los algoritmos de ordenamiento\r\n",
        "En esta sección se realizará una comparación de los algoritmos de ordenamiento anteriormente implementados. \r\n",
        "Miraremos el desempeño de cada uno para listas de distintos tamaños"
      ]
    },
    {
      "cell_type": "code",
      "metadata": {
        "id": "99IQlwfBdeqK"
      },
      "source": [
        "def calcular_tiempo_sort_function(f, lista):\r\n",
        "  t_ini = time()\r\n",
        "  sol_isertion = f(lista.copy())\r\n",
        "  t_end = time()\r\n",
        "  return t_end-t_ini"
      ],
      "execution_count": 43,
      "outputs": []
    },
    {
      "cell_type": "code",
      "metadata": {
        "id": "qYf7eaORavk-"
      },
      "source": [
        "tamanos =  range(500, 5500, 500)#[10, 100, 1000, 10_000]"
      ],
      "execution_count": 44,
      "outputs": []
    },
    {
      "cell_type": "code",
      "metadata": {
        "colab": {
          "base_uri": "https://localhost:8080/"
        },
        "id": "0uuY8YNqcBri",
        "outputId": "9aa94328-3dfd-48d2-d214-22b434da8113"
      },
      "source": [
        "# inicialización de las listas que contendrán los tiempos de desempeño de cada algoritmo\r\n",
        "t_insertion = []\r\n",
        "t_bubble = []\r\n",
        "t_selection = []\r\n",
        "t_merge = []\r\n",
        "\r\n",
        "for tam in tamanos:\r\n",
        "  print(\"Calculando listas de tamaño:\", tam)  \r\n",
        "  # Creación de la lista original que cada algoritmo deberá ordenar\r\n",
        "  lista = list(np.random.randint(0, 10*tam, tam))\r\n",
        "\r\n",
        "  t_insertion.append(calcular_tiempo_sort_function(insertion_sort, lista))\r\n",
        "  t_bubble.append(calcular_tiempo_sort_function(bubble_sort, lista))\r\n",
        "  t_selection.append(calcular_tiempo_sort_function(selection_sort, lista))\r\n",
        "  t_merge.append(calcular_tiempo_sort_function(merge_sort, lista))"
      ],
      "execution_count": 45,
      "outputs": [
        {
          "output_type": "stream",
          "text": [
            "Calculando listas de tamaño: 500\n",
            "Calculando listas de tamaño: 1000\n",
            "Calculando listas de tamaño: 1500\n",
            "Calculando listas de tamaño: 2000\n",
            "Calculando listas de tamaño: 2500\n",
            "Calculando listas de tamaño: 3000\n",
            "Calculando listas de tamaño: 3500\n",
            "Calculando listas de tamaño: 4000\n",
            "Calculando listas de tamaño: 4500\n",
            "Calculando listas de tamaño: 5000\n"
          ],
          "name": "stdout"
        }
      ]
    },
    {
      "cell_type": "code",
      "metadata": {
        "colab": {
          "base_uri": "https://localhost:8080/",
          "height": 404
        },
        "id": "rcFryeY2avn4",
        "outputId": "09d5678b-79b9-42fc-b007-66e564df5379"
      },
      "source": [
        "plt.figure(figsize=(10, 6))\r\n",
        "plt.plot(tamanos, t_insertion, label=\"insertion sort\")\r\n",
        "plt.plot(tamanos, t_bubble, label=\"bubble sort\")\r\n",
        "plt.plot(tamanos, t_selection, label=\"selection sort\")\r\n",
        "plt.plot(tamanos, t_merge, label=\"merge sort\")\r\n",
        "plt.legend()\r\n",
        "plt.title(\"Comparación algoritmos de ordenamiento\")\r\n",
        "plt.ylabel(\"Tiempo (segundos)\")\r\n",
        "plt.xlabel(\"Tamaño de lista\")\r\n",
        "plt.show()"
      ],
      "execution_count": 46,
      "outputs": [
        {
          "output_type": "display_data",
          "data": {
            "image/png": "[encoded data removed]",
            "text/plain": [
              "<Figure size 720x432 with 1 Axes>"
            ]
          },
          "metadata": {
            "tags": [],
            "needs_background": "light"
          }
        }
      ]
    },
    {
      "cell_type": "markdown",
      "metadata": {
        "id": "KQZFsyGCgm0Z"
      },
      "source": [
        "Se puede observar cómo el peor algoritmo termina siendo el bubble sort. \r\n",
        "Sigue insertion sort con un desempeño inferior al selection sort.\r\n",
        "Y finalmente encontramos al merge sort con un desempeño de lejos mucho mejor que los demás algoritmos implementados"
      ]
    },
    {
      "cell_type": "code",
      "metadata": {
        "id": "00zz2fapavxN"
      },
      "source": [
        ""
      ],
      "execution_count": 46,
      "outputs": []
    },
    {
      "cell_type": "markdown",
      "metadata": {
        "id": "vhku1F06WlZ4"
      },
      "source": [
        "# Técnicas de diseño de algoritmos\r\n",
        "En las siguientes secciones desarrollaremos algunas técnicas de diseño de algoritmos con un ejemplo de problema tipo correspondiente"
      ]
    },
    {
      "cell_type": "markdown",
      "metadata": {
        "id": "5Nomfimfvmpf"
      },
      "source": [
        "## Divide y Vencerás\r\n",
        "Se desarrollará la solución al juego de las Torres de Hanoi por medio de la técnica Divide y Vencerás"
      ]
    },
    {
      "cell_type": "code",
      "metadata": {
        "id": "E6aY4GnQuQHT"
      },
      "source": [
        "def torres_hanoi(n, desde, hasta):\r\n",
        "  if n==1:\r\n",
        "    print(\"lleva la ficha \", desde, \"hasta\", hasta)\r\n",
        "  else:\r\n",
        "    torres_hanoi(n-1, desde, 6-desde-hasta)\r\n",
        "    print(\"lleva la ficha \", desde, \"hasta\", hasta)\r\n",
        "    torres_hanoi(n-1, 6-desde-hasta, hasta)"
      ],
      "execution_count": 47,
      "outputs": []
    },
    {
      "cell_type": "code",
      "metadata": {
        "colab": {
          "base_uri": "https://localhost:8080/"
        },
        "id": "T-GZs4SLxkj1",
        "outputId": "eb585e67-d608-4f69-d5c8-64219cf33c9b"
      },
      "source": [
        "# solucionar el juego de 3 torres, llevándolas desde la 1 hasta la 3\r\n",
        "torres_hanoi(3, 1, 3)"
      ],
      "execution_count": 48,
      "outputs": [
        {
          "output_type": "stream",
          "text": [
            "lleva la ficha  1 hasta 3\n",
            "lleva la ficha  1 hasta 2\n",
            "lleva la ficha  3 hasta 2\n",
            "lleva la ficha  1 hasta 3\n",
            "lleva la ficha  2 hasta 1\n",
            "lleva la ficha  2 hasta 3\n",
            "lleva la ficha  1 hasta 3\n"
          ],
          "name": "stdout"
        }
      ]
    },
    {
      "cell_type": "code",
      "metadata": {
        "id": "W6sbClKYXRPy"
      },
      "source": [
        ""
      ],
      "execution_count": 48,
      "outputs": []
    },
    {
      "cell_type": "markdown",
      "metadata": {
        "id": "BRHe_tNb5AsG"
      },
      "source": [
        "## Algoritmos voraces - técnica voraz\r\n",
        "Solución del problema de cambio monetario por medio de la técnica voraz"
      ]
    },
    {
      "cell_type": "code",
      "metadata": {
        "id": "Uqf7nnFm4qYj"
      },
      "source": [
        "def cambio_monedas(cantidad, sistema):\r\n",
        "  solucion = []\r\n",
        "  cantidad_faltante = cantidad\r\n",
        "  for moneda in sistema:\r\n",
        "    cant_monedas = cantidad_faltante//moneda\r\n",
        "    solucion.append(cant_monedas)\r\n",
        "    cantidad_faltante -= cant_monedas*moneda\r\n",
        "  return solucion"
      ],
      "execution_count": 49,
      "outputs": []
    },
    {
      "cell_type": "code",
      "metadata": {
        "colab": {
          "base_uri": "https://localhost:8080/"
        },
        "id": "qj7iFtpu5IjN",
        "outputId": "6b438dfb-bc05-48e8-8448-b4b67d5c0691"
      },
      "source": [
        "cambio_monedas(37, [25, 10, 5, 1])"
      ],
      "execution_count": 50,
      "outputs": [
        {
          "output_type": "execute_result",
          "data": {
            "text/plain": [
              "[1, 1, 0, 2]"
            ]
          },
          "metadata": {
            "tags": []
          },
          "execution_count": 50
        }
      ]
    },
    {
      "cell_type": "code",
      "metadata": {
        "id": "oWUkYWO-4pwo"
      },
      "source": [
        ""
      ],
      "execution_count": 50,
      "outputs": []
    },
    {
      "cell_type": "markdown",
      "metadata": {
        "id": "7tp3UwFXAzW_"
      },
      "source": [
        "## Backtracking y DFS (depth first search)\r\n",
        "Problema de las reinas en un tablero de nxn fue resuelto en clase por medio del método de back tracking. \r\n",
        "En esta sección lo abordaré también por el método de DFS "
      ]
    },
    {
      "cell_type": "code",
      "metadata": {
        "id": "62DEFaYPsRKx"
      },
      "source": [
        "# Funciones para imprimir\r\n",
        "def print_solucion_reinas(solucion):\r\n",
        "  for sol in solucion:\r\n",
        "    linea = [\"#\" for i in range(len(solucion))]\r\n",
        "    linea[sol] = \"R\"\r\n",
        "    print(\" \".join(linea))\r\n",
        "\r\n",
        "def print_soluciones_reinas(soluciones):\r\n",
        "  for i, solucion in enumerate(soluciones):\r\n",
        "    print(f\"solución {i+1}\")\r\n",
        "    print_solucion_reinas(solucion)\r\n",
        "    print()\r\n"
      ],
      "execution_count": 51,
      "outputs": []
    },
    {
      "cell_type": "markdown",
      "metadata": {
        "id": "tyAHPJz9uoEY"
      },
      "source": [
        "### Solución por método de back tracking\r\n",
        "Esta solución está en base 1. Es decir que las filas se tratarán desde 1 hasta N"
      ]
    },
    {
      "cell_type": "code",
      "metadata": {
        "id": "X5h1Gekdnqx7"
      },
      "source": [
        "def es_prometedora(solucion, etapa):\r\n",
        "  for i in range(etapa+1):\r\n",
        "    \r\n",
        "    # verificar si hay 2 reinas en la misma fila\r\n",
        "    if solucion.count(solucion[i]) > 1:\r\n",
        "      return False\r\n",
        "    \r\n",
        "    # verificar diagonales\r\n",
        "    for j in range(i+1, etapa+1):\r\n",
        "      if abs(i-j) == abs(solucion[i]- solucion[j]):\r\n",
        "        return False\r\n",
        "  \r\n",
        "  return True\r\n",
        "\r\n",
        "# solución del problema de N reinas por método de backtracking\r\n",
        "def reinas_bt(N, solucion, etapa):\r\n",
        "  for i in range(1, N+1):\r\n",
        "    solucion[etapa] = i\r\n",
        "\r\n",
        "    if es_prometedora(solucion, etapa):\r\n",
        "      if etapa == N-1:\r\n",
        "        print(\"La solución es:\")\r\n",
        "        print(solucion)\r\n",
        "\r\n",
        "      else:\r\n",
        "        reinas_bt(N, solucion, etapa+1)\r\n",
        "    solucion[etapa] = 0\r\n"
      ],
      "execution_count": 52,
      "outputs": []
    },
    {
      "cell_type": "code",
      "metadata": {
        "colab": {
          "base_uri": "https://localhost:8080/"
        },
        "id": "EKNBRBsEnJ23",
        "outputId": "605d4a21-1211-4a38-e709-0bd586e0ac3a"
      },
      "source": [
        "reinas_bt(5, [0 for x in range(5)], 0)"
      ],
      "execution_count": 53,
      "outputs": [
        {
          "output_type": "stream",
          "text": [
            "La solución es:\n",
            "[1, 3, 5, 2, 4]\n",
            "La solución es:\n",
            "[1, 4, 2, 5, 3]\n",
            "La solución es:\n",
            "[2, 4, 1, 3, 5]\n",
            "La solución es:\n",
            "[2, 5, 3, 1, 4]\n",
            "La solución es:\n",
            "[3, 1, 4, 2, 5]\n",
            "La solución es:\n",
            "[3, 5, 2, 4, 1]\n",
            "La solución es:\n",
            "[4, 1, 3, 5, 2]\n",
            "La solución es:\n",
            "[4, 2, 5, 3, 1]\n",
            "La solución es:\n",
            "[5, 2, 4, 1, 3]\n",
            "La solución es:\n",
            "[5, 3, 1, 4, 2]\n"
          ],
          "name": "stdout"
        }
      ]
    },
    {
      "cell_type": "code",
      "metadata": {
        "id": "7zIN6DXpu1IP"
      },
      "source": [
        ""
      ],
      "execution_count": 53,
      "outputs": []
    },
    {
      "cell_type": "markdown",
      "metadata": {
        "id": "z7gCf7C6u4Du"
      },
      "source": [
        "### Solución por método DFS\r\n",
        "Acá se plantea el problema como un grafo. De tal forma que se recorrerá el árbol por medio de la técnica DFS (Depth first search)\r\n",
        "\r\n",
        "Este método está en base 0, es decir que las filas y columnas se tratarán de 0 hasta N-1"
      ]
    },
    {
      "cell_type": "code",
      "metadata": {
        "id": "8TgGuMUeA2DB"
      },
      "source": [
        "def get_hijos_candidato(N, candidato):\r\n",
        "  etapa = len(candidato)\r\n",
        "  posibles = set(range(N))-set(candidato)\r\n",
        "  remover = set()\r\n",
        "  for hijo in posibles:\r\n",
        "    for i, cand in enumerate(candidato):\r\n",
        "      if abs(hijo-cand) == abs(etapa-i):\r\n",
        "        remover.add(hijo)\r\n",
        "  return list(posibles-remover)\r\n",
        "\r\n",
        "def reinas(N):\r\n",
        "  soluciones = []\r\n",
        "  candidatos = [[i] for i in range(N)]\r\n",
        "  stack_candidatos = candidatos\r\n",
        "\r\n",
        "  # DFS\r\n",
        "  while(stack_candidatos):\r\n",
        "    candidato = stack_candidatos.pop(-1)\r\n",
        "    if len(candidato) == N:\r\n",
        "      soluciones.append(candidato)\r\n",
        "    else:\r\n",
        "      hijos_candidato = get_hijos_candidato(N, candidato)\r\n",
        "      for hijo in hijos_candidato:\r\n",
        "        stack_candidatos.append(candidato+[hijo])\r\n",
        "  return soluciones\r\n"
      ],
      "execution_count": 54,
      "outputs": []
    },
    {
      "cell_type": "code",
      "metadata": {
        "colab": {
          "base_uri": "https://localhost:8080/"
        },
        "id": "G9Hpf-jIBcSx",
        "outputId": "56e4befe-8b35-4016-a5fd-42b5e3063878"
      },
      "source": [
        "print_soluciones_reinas(reinas(5))"
      ],
      "execution_count": 55,
      "outputs": [
        {
          "output_type": "stream",
          "text": [
            "solución 1\n",
            "# # # # R\n",
            "# # R # #\n",
            "R # # # #\n",
            "# # # R #\n",
            "# R # # #\n",
            "\n",
            "solución 2\n",
            "# # # # R\n",
            "# R # # #\n",
            "# # # R #\n",
            "R # # # #\n",
            "# # R # #\n",
            "\n",
            "solución 3\n",
            "# # # R #\n",
            "# R # # #\n",
            "# # # # R\n",
            "# # R # #\n",
            "R # # # #\n",
            "\n",
            "solución 4\n",
            "# # # R #\n",
            "R # # # #\n",
            "# # R # #\n",
            "# # # # R\n",
            "# R # # #\n",
            "\n",
            "solución 5\n",
            "# # R # #\n",
            "# # # # R\n",
            "# R # # #\n",
            "# # # R #\n",
            "R # # # #\n",
            "\n",
            "solución 6\n",
            "# # R # #\n",
            "R # # # #\n",
            "# # # R #\n",
            "# R # # #\n",
            "# # # # R\n",
            "\n",
            "solución 7\n",
            "# R # # #\n",
            "# # # # R\n",
            "# # R # #\n",
            "R # # # #\n",
            "# # # R #\n",
            "\n",
            "solución 8\n",
            "# R # # #\n",
            "# # # R #\n",
            "R # # # #\n",
            "# # R # #\n",
            "# # # # R\n",
            "\n",
            "solución 9\n",
            "R # # # #\n",
            "# # # R #\n",
            "# R # # #\n",
            "# # # # R\n",
            "# # R # #\n",
            "\n",
            "solución 10\n",
            "R # # # #\n",
            "# # R # #\n",
            "# # # # R\n",
            "# R # # #\n",
            "# # # R #\n",
            "\n"
          ],
          "name": "stdout"
        }
      ]
    },
    {
      "cell_type": "code",
      "metadata": {
        "id": "Hg9aMYRSVTaU"
      },
      "source": [
        ""
      ],
      "execution_count": 55,
      "outputs": []
    },
    {
      "cell_type": "markdown",
      "metadata": {
        "id": "Dlz0AwnPvxSI"
      },
      "source": [
        "# Problema opcional:\r\n",
        "Encontrar los dos puntos más cercados:\r\n",
        "* Dado un conjunto de puntos se trata de encontrar la pareja de puntos más cercanos.\r\n",
        "* Guía para aprendizaje:\r\n",
        "  * Suponer en 1D\r\n",
        "  * Primer intento: fuerza bruta\r\n",
        "    * Calcular complejidad: ¿Se puede mejorar?\r\n",
        "  * Segundo intento: aplicar divide y vencerás\r\n",
        "    * Calcular la complejidad: ¿Se puede mejorar?\r\n",
        "  * Extender el algoritmo a 2D\r\n",
        "  * Extender el algoritmo a 3D"
      ]
    },
    {
      "cell_type": "markdown",
      "metadata": {
        "id": "9_gK_N2R26KI"
      },
      "source": [
        "## Pareja de puntos más cercanos en 1D\r\n"
      ]
    },
    {
      "cell_type": "markdown",
      "metadata": {
        "id": "YAgsKQ8H3KIJ"
      },
      "source": [
        "### Fuerza bruta\r\n",
        "Primero intentaré encontrar la pareja más cercana por fuerza bruta. Esto se hará por medio de buscar todas las posibles combinaciones.\r\n",
        "\r\n",
        "Si tengo N puntos, tendré N*(N-1)/2 combinaciones, lo cual implica un orden algorítmico O(N^2)"
      ]
    },
    {
      "cell_type": "code",
      "metadata": {
        "id": "qAjsv6mx35Ib"
      },
      "source": [
        "def par_mas_cercano_1D_fuerza_bruta(puntos):\r\n",
        "  # Esta función retornará: los dos puntos más cercanos y la distancia entre estos\r\n",
        "  # todo calculado por el método de fuerza bruta\r\n",
        "\r\n",
        "  # se inicializan los puntos cercanos por defecto en los 2 primeros puntos del arreglo\r\n",
        "  cercano_a = puntos[0]\r\n",
        "  cercano_b = puntos[1]\r\n",
        "  menor_dist = abs(cercano_a-cercano_b) \r\n",
        "  N = len(puntos)\r\n",
        "  # se revisan todas las combinaciones de puntos para encontrar la distancia menor\r\n",
        "  for i in range(N-1):\r\n",
        "    for j in range(i+1, N):\r\n",
        "      actual_dist = abs(puntos[i]-puntos[j])\r\n",
        "      if actual_dist<menor_dist:\r\n",
        "        menor_dist = actual_dist\r\n",
        "        cercano_a = puntos[i]\r\n",
        "        cercano_b = puntos[j]\r\n",
        "\r\n",
        "  return cercano_a, cercano_b, menor_dist"
      ],
      "execution_count": 56,
      "outputs": []
    },
    {
      "cell_type": "code",
      "metadata": {
        "colab": {
          "base_uri": "https://localhost:8080/"
        },
        "id": "S__wX4Z439aL",
        "outputId": "b68c7879-7755-4365-8be5-a8ee7cdbf272"
      },
      "source": [
        "N = 100\r\n",
        "puntos = np.array(random.sample(range(1000*N), N)) # N puntos aleatorios enteros entre 0 y 1000*N-1 (entre 0 y 100.000)\r\n",
        "print(puntos)\r\n",
        "print()\r\n",
        "print(\"puntos más cercanos y distancia mínima:\")\r\n",
        "par_mas_cercano_1D_fuerza_bruta(puntos)"
      ],
      "execution_count": 57,
      "outputs": [
        {
          "output_type": "stream",
          "text": [
            "[32388 85066 84589 52476 52609 70771 25166 35134 41607  6206 87019 99447\n",
            "  9125 69469 65423 12375 47962 27079 77215 98838 51893 87111 97292 77098\n",
            " 15238 10819 89640 81394  8143 36932  3544 81831 18714 65639 14135 81648\n",
            " 49261 81057 99177 90190 21710 10733 45528 91231 10703 97845 99815 29573\n",
            " 39843 72787 37916 48319 79356 49947 97424 68473 56983  7233 68904   793\n",
            " 51976 43223 68334 46550 85926 57260 25111 68920 46660 70483 24121 26836\n",
            " 77872 55408 90674 33975 49549  9421  2630 36570 63362 46595 71338 55645\n",
            " 27800 86249  7397 76336 21157 70168 23142 95057 50311 95927 56101 24251\n",
            " 56266 84430 38349 85179]\n",
            "\n",
            "puntos más cercanos y distancia mínima:\n"
          ],
          "name": "stdout"
        },
        {
          "output_type": "execute_result",
          "data": {
            "text/plain": [
              "(68904, 68920, 16)"
            ]
          },
          "metadata": {
            "tags": []
          },
          "execution_count": 57
        }
      ]
    },
    {
      "cell_type": "markdown",
      "metadata": {
        "id": "XY4VrmHt7Py6"
      },
      "source": [
        "### Ordenando el arreglo\r\n",
        "Dado que estamos tratando con solo una dimensión, el problema se puede resolver de una manera mucho más eficiente. \r\n",
        "\r\n",
        "Suponiendo un arreglo de números ordenado, encontrar el par de distancia mínima es un problema que se puede resolver en orden O(N)\r\n",
        "\r\n",
        "Ahora, lo que haremos será ordenar primero el arreglo, de tal forma que garanticemos encontrar luego rápidamente la pareja de distancia mínima. \r\n",
        "\r\n",
        "Por lo tanto, esta aproximación tendrá un orden **O(N)+O(ordenar)**. \r\n",
        "Como usualmente los algoritmos de ordenamiento son orden **O(N*log(N))** entonces el orden final de esta aproximación será **O(N*log(N)+N)** lo que a nivel asintótico será finalmente **O(N*log(N))** "
      ]
    },
    {
      "cell_type": "code",
      "metadata": {
        "id": "XWrQSA1t8A3p"
      },
      "source": [
        "def par_mas_cercano_1D_ordenando(puntos):\r\n",
        "  # Esta función retornará: los dos puntos más cercanos y la distancia entre estos\r\n",
        "  # todo calculado por el método de ordenar los puntos primero\r\n",
        "  ordenados = sorted(puntos)\r\n",
        "\r\n",
        "  # se inicializan los puntos cercanos por defecto en los 2 primeros puntos del arreglo\r\n",
        "  cercano_a = ordenados[0]\r\n",
        "  cercano_b = ordenados[1]\r\n",
        "  menor_dist = abs(cercano_a-cercano_b) \r\n",
        "  N = len(puntos)\r\n",
        "  for i in range(N-1):\r\n",
        "    actual_dist = abs(ordenados[i]-ordenados[i+1]) \r\n",
        "    if actual_dist < menor_dist:\r\n",
        "      menor_dist = actual_dist\r\n",
        "      cercano_a = ordenados[i]\r\n",
        "      cercano_b = ordenados[i+1]\r\n",
        "  \r\n",
        "  return cercano_a, cercano_b, menor_dist"
      ],
      "execution_count": 58,
      "outputs": []
    },
    {
      "cell_type": "code",
      "metadata": {
        "colab": {
          "base_uri": "https://localhost:8080/"
        },
        "id": "7GpC3RA48wbR",
        "outputId": "8cfcb751-3a2a-4c80-8d81-688158b9cccc"
      },
      "source": [
        "N = 100\r\n",
        "puntos = np.array(random.sample(range(1000*N), N)) # N puntos aleatorios enteros entre 0 y 1000*N-1 (entre 0 y 100.000)\r\n",
        "print(puntos)\r\n",
        "print()\r\n",
        "print(\"puntos más cercanos y distancia mínima:\")\r\n",
        "par_mas_cercano_1D_ordenando(puntos)"
      ],
      "execution_count": 59,
      "outputs": [
        {
          "output_type": "stream",
          "text": [
            "[31093  8615 64784 64591 86887 88437 91830 21504 76383 45308  3811 71997\n",
            " 85468 34682 77364 75534 18635 59806 88217 90251 84014 63297  3752 18361\n",
            " 95439 77195 40349 40203 36422 39814 31013 33850 83916 61607 19959  2515\n",
            " 67155 76982 96055 39980 66993 86722  6877 65075 32981 62522 37347 44677\n",
            "  9770   798 57826 66016 44901 72014  9077 39448 26953 78569 16859 27135\n",
            " 43941 70212 87852 32940 10627 97150 37082  4923 32736 83548 68973 66104\n",
            " 67790 67101 95183 64440 88921 54681  8152 70430 13775 54404 52114 42694\n",
            " 54908 75149 62012 52940 41237 75310 50661 40665 66593 15338  9262  7591\n",
            " 73027 87535 20851 80683]\n",
            "\n",
            "puntos más cercanos y distancia mínima:\n"
          ],
          "name": "stdout"
        },
        {
          "output_type": "execute_result",
          "data": {
            "text/plain": [
              "(71997, 72014, 17)"
            ]
          },
          "metadata": {
            "tags": []
          },
          "execution_count": 59
        }
      ]
    },
    {
      "cell_type": "markdown",
      "metadata": {
        "id": "YuJ31J52-2rV"
      },
      "source": [
        "### Comparación de ambos métodos\r\n",
        "En esta sección se compararán los tiempos de ejecución de ambos métodos para distintos tamaños de entrada"
      ]
    },
    {
      "cell_type": "code",
      "metadata": {
        "id": "h6rrgjbZ9CIp"
      },
      "source": [
        "tamanos = range(100, 1100, 100) #, 10000, 50000, 100000]"
      ],
      "execution_count": 60,
      "outputs": []
    },
    {
      "cell_type": "code",
      "metadata": {
        "colab": {
          "base_uri": "https://localhost:8080/"
        },
        "id": "qKvimbD--OQh",
        "outputId": "5584eace-de64-40c2-f421-bd117276a871"
      },
      "source": [
        "from time import time\r\n",
        "tiempos_fb = []\r\n",
        "tiempos_sort = []\r\n",
        "for tam in tamanos:\r\n",
        "  print(\"#\"*8, \"tamaño:\", tam, \"#\"*8)\r\n",
        "\r\n",
        "  # se crean los puntos\r\n",
        "  puntos = np.array(random.sample(range(1000*tam), tam))\r\n",
        "  # print(puntos)\r\n",
        "  # cronometrar las funciones\r\n",
        "  # print(\"cronometrando método fuerza bruta\")\r\n",
        "  t_ini = time()\r\n",
        "  sol_fb = par_mas_cercano_1D_fuerza_bruta(puntos)\r\n",
        "  t_end = time()\r\n",
        "  t_elapsed = t_end-t_ini\r\n",
        "  # print(\"tiempo:\", t_elapsed)\r\n",
        "  tiempos_fb.append(t_elapsed)\r\n",
        "\r\n",
        "  # print(\"cronometrando método ordenando\")\r\n",
        "  t_ini = time()\r\n",
        "  sol_sort = par_mas_cercano_1D_ordenando(puntos)\r\n",
        "  t_end = time()\r\n",
        "  t_elapsed = t_end-t_ini\r\n",
        "  # print(\"tiempo:\", t_elapsed)\r\n",
        "  tiempos_sort.append(t_elapsed)\r\n",
        "\r\n",
        "  print(\"solución fuerza bruta: \", sol_fb, \"tiempo: \", tiempos_fb[-1])\r\n",
        "  print(\"solución fuerza sort: \", sol_sort, \"tiempo: \", tiempos_sort[-1])\r\n",
        "  print()\r\n",
        "    "
      ],
      "execution_count": 61,
      "outputs": [
        {
          "output_type": "stream",
          "text": [
            "######## tamaño: 100 ########\n",
            "solución fuerza bruta:  (76872, 76868, 4) tiempo:  0.002852916717529297\n",
            "solución fuerza sort:  (76868, 76872, 4) tiempo:  0.00010776519775390625\n",
            "\n",
            "######## tamaño: 200 ########\n",
            "solución fuerza bruta:  (1654, 1657, 3) tiempo:  0.01280069351196289\n",
            "solución fuerza sort:  (1654, 1657, 3) tiempo:  0.00016379356384277344\n",
            "\n",
            "######## tamaño: 300 ########\n",
            "solución fuerza bruta:  (23006, 23007, 1) tiempo:  0.026395797729492188\n",
            "solución fuerza sort:  (23006, 23007, 1) tiempo:  0.0002086162567138672\n",
            "\n",
            "######## tamaño: 400 ########\n",
            "solución fuerza bruta:  (289092, 289100, 8) tiempo:  0.04435443878173828\n",
            "solución fuerza sort:  (289092, 289100, 8) tiempo:  0.00026488304138183594\n",
            "\n",
            "######## tamaño: 500 ########\n",
            "solución fuerza bruta:  (80477, 80476, 1) tiempo:  0.06716322898864746\n",
            "solución fuerza sort:  (80476, 80477, 1) tiempo:  0.00034165382385253906\n",
            "\n",
            "######## tamaño: 600 ########\n",
            "solución fuerza bruta:  (239642, 239643, 1) tiempo:  0.10556602478027344\n",
            "solución fuerza sort:  (239642, 239643, 1) tiempo:  0.00041604042053222656\n",
            "\n",
            "######## tamaño: 700 ########\n",
            "solución fuerza bruta:  (34732, 34729, 3) tiempo:  0.1332545280456543\n",
            "solución fuerza sort:  (34729, 34732, 3) tiempo:  0.0004966259002685547\n",
            "\n",
            "######## tamaño: 800 ########\n",
            "solución fuerza bruta:  (673982, 673985, 3) tiempo:  0.17046570777893066\n",
            "solución fuerza sort:  (48920, 48923, 3) tiempo:  0.0008242130279541016\n",
            "\n",
            "######## tamaño: 900 ########\n",
            "solución fuerza bruta:  (699003, 699002, 1) tiempo:  0.21518230438232422\n",
            "solución fuerza sort:  (699002, 699003, 1) tiempo:  0.0006206035614013672\n",
            "\n",
            "######## tamaño: 1000 ########\n",
            "solución fuerza bruta:  (164653, 164652, 1) tiempo:  0.266498327255249\n",
            "solución fuerza sort:  (164652, 164653, 1) tiempo:  0.0007762908935546875\n",
            "\n"
          ],
          "name": "stdout"
        }
      ]
    },
    {
      "cell_type": "code",
      "metadata": {
        "colab": {
          "base_uri": "https://localhost:8080/",
          "height": 405
        },
        "id": "sexz8AyZ-Dat",
        "outputId": "77aa28a4-c3d2-420d-cc2e-90b7b601fc89"
      },
      "source": [
        "plt.figure(figsize=(10, 6))\r\n",
        "plt.plot(tamanos, tiempos_fb, label=\"fuerza bruta\")\r\n",
        "plt.plot(tamanos, tiempos_sort, label=\"ordenando\")\r\n",
        "plt.legend()\r\n",
        "plt.ylabel(\"Tiempo (segundos)\")\r\n",
        "plt.xlabel(\"Número de puntos\")\r\n",
        "plt.title(\"Comparación de tiempos entre fuerza bruta y ordenando\")\r\n",
        "plt.grid()\r\n",
        "plt.show()"
      ],
      "execution_count": 62,
      "outputs": [
        {
          "output_type": "display_data",
          "data": {
            "image/png": "[encoded data removed]",
            "text/plain": [
              "<Figure size 720x432 with 1 Axes>"
            ]
          },
          "metadata": {
            "tags": [],
            "needs_background": "light"
          }
        }
      ]
    },
    {
      "cell_type": "markdown",
      "metadata": {
        "id": "Md4AQ5hyFEL4"
      },
      "source": [
        "Nótese cómo el método de fuerza bruta se dispara pues como se mencionó antes es de orden **O(N^2)** mientras que la opción por medio de ordenar la lista antes es orden casi lineal **O(N*log(N))**"
      ]
    },
    {
      "cell_type": "code",
      "metadata": {
        "id": "aHELDcBv-DeR"
      },
      "source": [
        ""
      ],
      "execution_count": 62,
      "outputs": []
    },
    {
      "cell_type": "markdown",
      "metadata": {
        "id": "tkbeiOEVGaVZ"
      },
      "source": [
        "## Pareja de puntos más cercanos en **2D**"
      ]
    },
    {
      "cell_type": "code",
      "metadata": {
        "id": "Wg8svO1DGmBR"
      },
      "source": [
        "import math\r\n",
        "import copy"
      ],
      "execution_count": 86,
      "outputs": []
    },
    {
      "cell_type": "code",
      "metadata": {
        "id": "GeRSNM4lyOma"
      },
      "source": [
        "# creación de una clase para representar los puntos 2D\r\n",
        "class Point2d():\r\n",
        "  def __init__(self, x, y, idf=0):\r\n",
        "    self.x = x\r\n",
        "    self.y = y\r\n",
        "    self.idf = idf # identificador\r\n",
        "\r\n",
        "# función para encontrar la distancia euclídea entre 2 puntos\r\n",
        "def dist2d(p1, p2):\r\n",
        "  return math.sqrt( (p1.x-p2.x)**2 + (p1.y-p2.y)**2 )\r\n"
      ],
      "execution_count": 106,
      "outputs": []
    },
    {
      "cell_type": "markdown",
      "metadata": {
        "id": "K6cu5gvxzHEo"
      },
      "source": [
        "### Fuerza bruta\r\n",
        "Primero intentaré encontrar la pareja más cercana por fuerza bruta. Esto se hará por medio de buscar todas las posibles combinaciones.\r\n",
        "\r\n",
        "Si tengo N puntos, tendré N*(N-1)/2 combinaciones, lo cual implica un orden algorítmico __O(N^2)**__**"
      ]
    },
    {
      "cell_type": "code",
      "metadata": {
        "id": "-EpuDoqKy7fB"
      },
      "source": [
        "def fuerza_bruta_2d(puntos):\r\n",
        "  cercano_a = puntos[0]\r\n",
        "  cercano_b = puntos[1]\r\n",
        "  menor_dist = dist2d(cercano_a, cercano_b)\r\n",
        "  n = len(puntos)\r\n",
        "  \r\n",
        "  for i in range(n-1):\r\n",
        "    for j in range(i+1, n):\r\n",
        "      actual_dist = dist2d(puntos[i], puntos[j])\r\n",
        "      if actual_dist < menor_dist:\r\n",
        "        menor_dist = actual_dist\r\n",
        "        cercano_a = puntos[i]\r\n",
        "        cercano_b = puntos[j]\r\n",
        "  \r\n",
        "  return cercano_a, cercano_b, menor_dist\r\n",
        "\r\n"
      ],
      "execution_count": 107,
      "outputs": []
    },
    {
      "cell_type": "code",
      "metadata": {
        "id": "dU_2QUOmy7mW"
      },
      "source": [
        "# probemos el método de fuerza bruta\r\n",
        "puntos = [Point2d(2, 3, 1), Point2d(12, 30, 2), \r\n",
        "     Point2d(40, 50, 3), Point2d(5, 1, 4),  \r\n",
        "     Point2d(12, 10, 5), Point2d(3, 4, 6)] "
      ],
      "execution_count": 178,
      "outputs": []
    },
    {
      "cell_type": "code",
      "metadata": {
        "colab": {
          "base_uri": "https://localhost:8080/"
        },
        "id": "27VvV61Q1LUD",
        "outputId": "fc0119b4-1c51-471c-8dad-da0a694c6241"
      },
      "source": [
        "fuerza_bruta_2d(puntos)"
      ],
      "execution_count": 179,
      "outputs": [
        {
          "output_type": "execute_result",
          "data": {
            "text/plain": [
              "(<__main__.Point2d at 0x7f26783d95f8>,\n",
              " <__main__.Point2d at 0x7f267849abe0>,\n",
              " 1.4142135623730951)"
            ]
          },
          "metadata": {
            "tags": []
          },
          "execution_count": 179
        }
      ]
    },
    {
      "cell_type": "code",
      "metadata": {
        "id": "Er7b3Kb91goY"
      },
      "source": [
        ""
      ],
      "execution_count": 179,
      "outputs": []
    },
    {
      "cell_type": "markdown",
      "metadata": {
        "id": "xQurGG2H1e9a"
      },
      "source": [
        "### Divide y vencerás"
      ]
    },
    {
      "cell_type": "code",
      "metadata": {
        "id": "JcT9CwHB1eci"
      },
      "source": [
        "def cercanos_franja(franja, d):\r\n",
        "  menor_dist = d\r\n",
        "\r\n",
        "\r\n",
        "  if len(franja) <= 1:\r\n",
        "    return None, None, np.inf\r\n",
        "\r\n",
        "  \r\n",
        "  cercano_a = franja[0]\r\n",
        "  cercano_b = franja[1]\r\n",
        "  n = len(franja)\r\n",
        "  # seleccionar todos los puntos uno por uno\r\n",
        "  # intentar el siguiente punto hasta que la diferencia\r\n",
        "  # entre las coordenadas y sea menor que d.\r\n",
        "  # NOTA: está demostrado que el siguiente loop corre máximo 6 veces\r\n",
        "  for i in range(n):\r\n",
        "    j = i+1\r\n",
        "    while j < n and (franja[j].y-franja[i].y) < menor_dist:\r\n",
        "      menor_dist = dist2d(franja[i], franja[j])\r\n",
        "      cercano_a = franja[i]\r\n",
        "      cercano_b = franja[j]\r\n",
        "      j += 1\r\n",
        "  return cercano_a, cercano_b, menor_dist\r\n",
        "\r\n",
        "\r\n",
        "# Función recursiva para encontrar\r\n",
        "# la pareja de puntos con distancia mínima. \r\n",
        "# El arreglo puntos contiene todos los puntos\r\n",
        "# ordenados de acuerdo a su coordenada x\r\n",
        "def cercanos_rec_2d(puntos, Q):\r\n",
        "  n = len(puntos)\r\n",
        "\r\n",
        "  if n<=3:\r\n",
        "    return fuerza_bruta_2d(puntos)\r\n",
        "\r\n",
        "  # encontrar el punto del medio\r\n",
        "  mid = n//2\r\n",
        "  midpoint = puntos[mid]\r\n",
        "\r\n",
        "  # considerar la línea vertical que pasa a través del punto \r\n",
        "  # del medio. Calcula la distancia mínima dl a la izquierda del punto mínimo\r\n",
        "  # y la distancia mínima dr a la derecha del punto medio\r\n",
        "  p1l, p2l, dl = cercanos_rec_2d(puntos[:mid], Q)\r\n",
        "  p1r, p2r, dr = cercanos_rec_2d(puntos[mid:], Q)\r\n",
        "\r\n",
        "  # encontrar la menor de ambas distancias:\r\n",
        "  if dl < dr:\r\n",
        "    p1, p2, d = p1l, p2l, dl\r\n",
        "  else:\r\n",
        "    p1, p2, d = p1r, p2r, dr\r\n",
        "\r\n",
        "  # construir la franja: un arreglo de puntos que están \r\n",
        "  # al rededor del punto medio y contiene puntos cercanos a este\r\n",
        "  # a una distancia menor o igual que \"d\"\r\n",
        "  franja = []\r\n",
        "  for i in range(n):\r\n",
        "    if abs(Q[i].x - midpoint.x) <= 10*d:\r\n",
        "      franja.append(Q[i])\r\n",
        "\r\n",
        "  \r\n",
        "  \r\n",
        "  # encontrar los puntos más cercanos en la franja y su distancia mínima\r\n",
        "  fa, fb, fd = cercanos_franja(franja, d) # franja_a, franja_b son puntos, fd es distancia\r\n",
        "  \r\n",
        "  if fd < d:\r\n",
        "    return fa, fb, fd\r\n",
        "  else:\r\n",
        "    return p1, p2, d\r\n"
      ],
      "execution_count": 180,
      "outputs": []
    },
    {
      "cell_type": "code",
      "metadata": {
        "id": "UhrEaYXk1PWl"
      },
      "source": [
        "# función principal para encontrar los puntos más cercanos en 2d\r\n",
        "# usa principalmente la función recursiva cercanos_rec_2d\r\n",
        "def cercanos_2d(puntos):\r\n",
        "  puntos.sort(key=lambda punto: punto.x)\r\n",
        "  Q = copy.deepcopy(puntos)\r\n",
        "  Q.sort(key = lambda point: point.y)\r\n",
        "\r\n",
        "  return cercanos_rec_2d(puntos, Q)"
      ],
      "execution_count": 181,
      "outputs": []
    },
    {
      "cell_type": "code",
      "metadata": {
        "colab": {
          "base_uri": "https://localhost:8080/"
        },
        "id": "IUSmbFBN6m9t",
        "outputId": "860be928-b94d-41fe-ad56-3eca4defdf3d"
      },
      "source": [
        "cercanos_2d(puntos)"
      ],
      "execution_count": 182,
      "outputs": [
        {
          "output_type": "execute_result",
          "data": {
            "text/plain": [
              "(<__main__.Point2d at 0x7f26783d95f8>,\n",
              " <__main__.Point2d at 0x7f267849abe0>,\n",
              " 1.4142135623730951)"
            ]
          },
          "metadata": {
            "tags": []
          },
          "execution_count": 182
        }
      ]
    },
    {
      "cell_type": "markdown",
      "metadata": {
        "id": "5Km0UaY3oSL2"
      },
      "source": [
        "Se puede observar cómo al comparar el método de fuerza bruta y el de divide y vencerás para el mismo conjunto de puntos, arroja el mismo resultado de distancia mínima de __1.4142135...__"
      ]
    },
    {
      "cell_type": "code",
      "metadata": {
        "id": "vOgSDNIX1Pby"
      },
      "source": [
        ""
      ],
      "execution_count": 185,
      "outputs": []
    },
    {
      "cell_type": "markdown",
      "metadata": {
        "id": "6t1Ru6aOhUXv"
      },
      "source": [
        "### Comparación de ambos métodos"
      ]
    },
    {
      "cell_type": "code",
      "metadata": {
        "id": "kMaTTsb1hoCC"
      },
      "source": [
        "tamanos = range(100, 1100, 100) #, 10000, 50000, 100000]"
      ],
      "execution_count": 190,
      "outputs": []
    },
    {
      "cell_type": "code",
      "metadata": {
        "colab": {
          "base_uri": "https://localhost:8080/"
        },
        "id": "mOWDRLiVhoCK",
        "outputId": "96543e39-a614-4221-fd0e-5696c5303ef6"
      },
      "source": [
        "from time import time\r\n",
        "tiempos_fb = []\r\n",
        "tiempos_div = []\r\n",
        "for tam in tamanos:\r\n",
        "  print(\"#\"*8, \"tamaño:\", tam, \"#\"*8)\r\n",
        "\r\n",
        "  # se crean los puntos\r\n",
        "  puntos = [Point2d(random.randint(1, 100*tam), random.randint(-100*tam, 100*tam)) for x in range(tam)] \r\n",
        "  # print(puntos)\r\n",
        "  # cronometrar las funciones\r\n",
        "  # print(\"cronometrando método fuerza bruta\")\r\n",
        "  t_ini = time()\r\n",
        "  sol_fb = fuerza_bruta_2d(puntos)\r\n",
        "  t_end = time()\r\n",
        "  t_elapsed = t_end-t_ini\r\n",
        "  # print(\"tiempo:\", t_elapsed)\r\n",
        "  tiempos_fb.append(t_elapsed)\r\n",
        "\r\n",
        "  # print(\"cronometrando método ordenando\")\r\n",
        "  t_ini = time()\r\n",
        "  sol_div = cercanos_2d(puntos)\r\n",
        "  t_end = time()\r\n",
        "  t_elapsed = t_end-t_ini\r\n",
        "  # print(\"tiempo:\", t_elapsed)\r\n",
        "  tiempos_div.append(t_elapsed)\r\n",
        "\r\n",
        "  print(\"solución fuerza bruta: \", \"tiempo: \", tiempos_fb[-1])\r\n",
        "  print(\"solución fuerza div: \", \"tiempo: \", tiempos_div[-1])\r\n",
        "  print()\r\n",
        "    "
      ],
      "execution_count": 191,
      "outputs": [
        {
          "output_type": "stream",
          "text": [
            "######## tamaño: 100 ########\n",
            "solución fuerza bruta:  tiempo:  0.005242347717285156\n",
            "solución fuerza div:  tiempo:  0.003471851348876953\n",
            "\n",
            "######## tamaño: 200 ########\n",
            "solución fuerza bruta:  tiempo:  0.020859479904174805\n",
            "solución fuerza div:  tiempo:  0.005501508712768555\n",
            "\n",
            "######## tamaño: 300 ########\n",
            "solución fuerza bruta:  tiempo:  0.043660879135131836\n",
            "solución fuerza div:  tiempo:  0.010779619216918945\n",
            "\n",
            "######## tamaño: 400 ########\n",
            "solución fuerza bruta:  tiempo:  0.07366514205932617\n",
            "solución fuerza div:  tiempo:  0.01664257049560547\n",
            "\n",
            "######## tamaño: 500 ########\n",
            "solución fuerza bruta:  tiempo:  0.12438750267028809\n",
            "solución fuerza div:  tiempo:  0.01387643814086914\n",
            "\n",
            "######## tamaño: 600 ########\n",
            "solución fuerza bruta:  tiempo:  0.18167471885681152\n",
            "solución fuerza div:  tiempo:  0.02204108238220215\n",
            "\n",
            "######## tamaño: 700 ########\n",
            "solución fuerza bruta:  tiempo:  0.23543834686279297\n",
            "solución fuerza div:  tiempo:  0.022286176681518555\n",
            "\n",
            "######## tamaño: 800 ########\n",
            "solución fuerza bruta:  tiempo:  0.3066539764404297\n",
            "solución fuerza div:  tiempo:  0.02219676971435547\n",
            "\n",
            "######## tamaño: 900 ########\n",
            "solución fuerza bruta:  tiempo:  0.39585399627685547\n",
            "solución fuerza div:  tiempo:  0.03030085563659668\n",
            "\n",
            "######## tamaño: 1000 ########\n",
            "solución fuerza bruta:  tiempo:  0.48672938346862793\n",
            "solución fuerza div:  tiempo:  0.021709918975830078\n",
            "\n"
          ],
          "name": "stdout"
        }
      ]
    },
    {
      "cell_type": "code",
      "metadata": {
        "colab": {
          "base_uri": "https://localhost:8080/",
          "height": 405
        },
        "id": "XYVyvveEhPl5",
        "outputId": "4bad6549-0802-43f3-869e-b52817ef7e67"
      },
      "source": [
        "plt.figure(figsize=(10, 6))\r\n",
        "plt.plot(tamanos, tiempos_fb, label=\"fuerza bruta\")\r\n",
        "plt.plot(tamanos, tiempos_div, label=\"divide y vencerás\")\r\n",
        "plt.legend()\r\n",
        "plt.ylabel(\"Tiempo (segundos)\")\r\n",
        "plt.xlabel(\"Número de puntos\")\r\n",
        "plt.title(\"Comparación de tiempos entre fuerza bruta y divide y vencerás\")\r\n",
        "plt.grid()\r\n",
        "plt.show()"
      ],
      "execution_count": 192,
      "outputs": [
        {
          "output_type": "display_data",
          "data": {
            "image/png": "[encoded data removed]",
            "text/plain": [
              "<Figure size 720x432 with 1 Axes>"
            ]
          },
          "metadata": {
            "tags": [],
            "needs_background": "light"
          }
        }
      ]
    },
    {
      "cell_type": "code",
      "metadata": {
        "id": "mbWISAF_hPpF"
      },
      "source": [
        ""
      ],
      "execution_count": 185,
      "outputs": []
    },
    {
      "cell_type": "code",
      "metadata": {
        "id": "EYIydL74oPt1"
      },
      "source": [
        ""
      ],
      "execution_count": null,
      "outputs": []
    }
  ]
}