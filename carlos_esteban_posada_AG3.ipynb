{
  "nbformat": 4,
  "nbformat_minor": 0,
  "metadata": {
    "colab": {
      "name": "carlos_esteban_posada_AG3.ipynb",
      "provenance": [],
      "toc_visible": true,
      "authorship_tag": "ABX9TyNtTnB2OtctoKWDpDrUUpxn",
      "include_colab_link": true
    },
    "kernelspec": {
      "name": "python3",
      "display_name": "Python 3"
    }
  },
  "cells": [
    {
      "cell_type": "markdown",
      "metadata": {
        "id": "view-in-github",
        "colab_type": "text"
      },
      "source": [
        "<a href=\"https://colab.research.google.com/github/cposada8/03MAIR-Algoritmos-de-Optimizacion-CEPM/blob/main/carlos_esteban_posada_AG3.ipynb\" target=\"_parent\"><img src=\"https://colab.research.google.com/assets/colab-badge.svg\" alt=\"Open In Colab\"/></a>"
      ]
    },
    {
      "cell_type": "markdown",
      "metadata": {
        "id": "Ofrcocl8c9RM"
      },
      "source": [
        "AG3- Actividad Guiada 3<br>\n",
        "Nombre: Carlos Esteban Posada<br>\n",
        "**URL DRIVE:** https://colab.research.google.com/drive/1Eapqfyk01k_nyCsLUMHFGPN2bDj8Sd98?usp=sharing\n",
        "\n",
        "**URL GITHUB:** https://colab.research.google.com/drive/xxxxxxxxxxxxxxxx?usp=sharing\n"
      ]
    },
    {
      "cell_type": "markdown",
      "metadata": {
        "id": "13hPMMOO1BMF"
      },
      "source": [
        "## Instalación y carga de requisitos principales\r\n",
        "En esta sección se instalan las bibliotecas necesarias y se cargan los datos para el ejercicio del TSP"
      ]
    },
    {
      "cell_type": "code",
      "metadata": {
        "id": "qP-Y3Gkfc4vn",
        "colab": {
          "base_uri": "https://localhost:8080/"
        },
        "outputId": "b35c7209-8a45-462d-ba61-d35910fe700e"
      },
      "source": [
        "!pip install requests    #Hacer llamadas http a paginas de la red\n",
        "!pip install tsplib95    #Modulo para las instancias del problema del TSP"
      ],
      "execution_count": 163,
      "outputs": [
        {
          "output_type": "stream",
          "text": [
            "Requirement already satisfied: requests in /usr/local/lib/python3.6/dist-packages (2.23.0)\n",
            "Requirement already satisfied: certifi>=2017.4.17 in /usr/local/lib/python3.6/dist-packages (from requests) (2020.12.5)\n",
            "Requirement already satisfied: idna<3,>=2.5 in /usr/local/lib/python3.6/dist-packages (from requests) (2.10)\n",
            "Requirement already satisfied: urllib3!=1.25.0,!=1.25.1,<1.26,>=1.21.1 in /usr/local/lib/python3.6/dist-packages (from requests) (1.24.3)\n",
            "Requirement already satisfied: chardet<4,>=3.0.2 in /usr/local/lib/python3.6/dist-packages (from requests) (3.0.4)\n",
            "Requirement already satisfied: tsplib95 in /usr/local/lib/python3.6/dist-packages (0.7.1)\n",
            "Requirement already satisfied: Click>=6.0 in /usr/local/lib/python3.6/dist-packages (from tsplib95) (7.1.2)\n",
            "Requirement already satisfied: tabulate~=0.8.7 in /usr/local/lib/python3.6/dist-packages (from tsplib95) (0.8.7)\n",
            "Requirement already satisfied: networkx~=2.1 in /usr/local/lib/python3.6/dist-packages (from tsplib95) (2.5)\n",
            "Requirement already satisfied: Deprecated~=1.2.9 in /usr/local/lib/python3.6/dist-packages (from tsplib95) (1.2.10)\n",
            "Requirement already satisfied: decorator>=4.3.0 in /usr/local/lib/python3.6/dist-packages (from networkx~=2.1->tsplib95) (4.4.2)\n",
            "Requirement already satisfied: wrapt<2,>=1.10 in /usr/local/lib/python3.6/dist-packages (from Deprecated~=1.2.9->tsplib95) (1.12.1)\n"
          ],
          "name": "stdout"
        }
      ]
    },
    {
      "cell_type": "code",
      "metadata": {
        "id": "-SWA0WtIfFOS"
      },
      "source": [
        "import tsplib95       #Modulo para las instancias del problema del TSP\n",
        "import random         #Modulo para generar números aleatorios\n",
        "from math import e    #constante e\n",
        "import copy           #Para copia profunda de estructuras de datos(en python la asignación es por referencia)\n",
        "import math"
      ],
      "execution_count": 164,
      "outputs": []
    },
    {
      "cell_type": "code",
      "metadata": {
        "id": "mnA47nhtdKOc",
        "colab": {
          "base_uri": "https://localhost:8080/"
        },
        "outputId": "b7e8e071-1bf6-4451-85f6-0d6d0972715a"
      },
      "source": [
        "import urllib.request #Hacer llamadas http a paginas de la red\n",
        "\n",
        "#http://elib.zib.de/pub/mp-testdata/tsp/tsplib/\n",
        "#Documentacion : \n",
        "  # http://comopt.ifi.uni-heidelberg.de/software/TSPLIB95/tsp95.pdf\n",
        "  # https://tsplib95.readthedocs.io/en/stable/pages/usage.html\n",
        "  # https://tsplib95.readthedocs.io/en/v0.6.1/modules.html\n",
        "  # https://pypi.org/project/tsplib95/\n",
        "\n",
        "#Descargamos el fichero de datos(Matriz de distancias)\n",
        "file = \"swiss42.tsp\" ; \n",
        "urllib.request.urlretrieve(\"http://elib.zib.de/pub/mp-testdata/tsp/tsplib/tsp/swiss42.tsp\", file) \n",
        "\n",
        "#Coordendas 51-city problem (Christofides/Eilon)\n",
        "#file = \"eil51.tsp\" ; urllib.request.urlretrieve(\"http://elib.zib.de/pub/mp-testdata/tsp/tsplib/tsp/eil51.tsp\", file)\n",
        "\n",
        "#Coordenadas - 48 capitals of the US (Padberg/Rinaldi)\n",
        "#file = \"att48.tsp\" ; urllib.request.urlretrieve(\"http://elib.zib.de/pub/mp-testdata/tsp/tsplib/tsp/att48.tsp\", file)\n",
        "\n",
        "\n"
      ],
      "execution_count": 165,
      "outputs": [
        {
          "output_type": "execute_result",
          "data": {
            "text/plain": [
              "('swiss42.tsp', <http.client.HTTPMessage at 0x7fa278ee5550>)"
            ]
          },
          "metadata": {
            "tags": []
          },
          "execution_count": 165
        }
      ]
    },
    {
      "cell_type": "code",
      "metadata": {
        "id": "ARkZkqP1m3tf"
      },
      "source": [
        "#Modulos extras, no esenciales\n",
        "import numpy as np\n",
        "import matplotlib.pyplot as plt\n",
        "import imageio                    #Para construir las imagenes con gif\n",
        "from google.colab import files    #Para descargar ficheros generados con google colab\n",
        "\n",
        "from tempfile import mkstemp      #Para genera carpetas y ficheros temporales\n",
        "#import tempfile\n"
      ],
      "execution_count": 166,
      "outputs": []
    },
    {
      "cell_type": "code",
      "metadata": {
        "id": "RIXYkDWcfmwd"
      },
      "source": [
        "#Carga de datos y generación de objeto problem\n",
        "\n",
        "problem = tsplib95.load(file)\n",
        "\n",
        "#Nodos\n",
        "Nodos = list(problem.get_nodes())\n",
        "\n",
        "#Aristas\n",
        "Aristas = list(problem.get_edges())\n",
        "\n"
      ],
      "execution_count": 167,
      "outputs": []
    },
    {
      "cell_type": "code",
      "metadata": {
        "id": "a7bTofSnn_Jt",
        "colab": {
          "base_uri": "https://localhost:8080/"
        },
        "outputId": "a8d32802-e591-41cc-f737-58ff47725fd1"
      },
      "source": [
        "#Probamos algunas funciones del objeto problem\n",
        "\n",
        "#Distancia entre nodos\n",
        "problem.get_weight(0, 1)\n",
        "\n",
        "#Todas las funciones\n",
        "#Documentación: https://tsplib95.readthedocs.io/en/v0.6.1/modules.html\n",
        "#dir(problem)"
      ],
      "execution_count": 168,
      "outputs": [
        {
          "output_type": "execute_result",
          "data": {
            "text/plain": [
              "15"
            ]
          },
          "metadata": {
            "tags": []
          },
          "execution_count": 168
        }
      ]
    },
    {
      "cell_type": "markdown",
      "metadata": {
        "id": "X13fdgy-1PmD"
      },
      "source": [
        "## Funciones generales\r\n",
        "En esta sección se implementan algunas funciones generales que serán usadas a través de todo el proyect"
      ]
    },
    {
      "cell_type": "code",
      "metadata": {
        "id": "tzrkaBS3gmmz"
      },
      "source": [
        "def crear_solucion(n):\n",
        "  # n es el tamaño de la lista solución.\n",
        "  # esta función retorna una lista con todos los números números del 0 al n-1 \n",
        "  # en un orden aleatorio\n",
        "  solucion = np.random.choice(range(n), n, replace=False)\n",
        "  return solucion\n",
        "\n",
        "#Devuelve la distancia entre dos nodos\n",
        "def distancia(a,b, problem):\n",
        "  return problem.get_weight(int(a),int(b))\n",
        "\n",
        "#Devuelve la distancia total de una trayectoria/solucion\n",
        "def distancia_total(solucion, problem):\n",
        "  distancia_total = 0\n",
        "  for i in range(len(solucion)-1):\n",
        "    distancia_total += distancia(solucion[i] ,solucion[i+1] ,  problem)\n",
        "  return distancia_total + distancia(solucion[-1] ,solucion[0], problem)"
      ],
      "execution_count": 169,
      "outputs": []
    },
    {
      "cell_type": "code",
      "metadata": {
        "id": "zU_o4gb_1poM"
      },
      "source": [
        ""
      ],
      "execution_count": 169,
      "outputs": []
    },
    {
      "cell_type": "markdown",
      "metadata": {
        "id": "itjqmZGm1uvE"
      },
      "source": [
        "## Métodos de solución\r\n",
        "En esta sección se implementarán 3 métodos para encontrar soluciones a este problema. \r\n",
        "Cabe destacar que por el gran tamaño de solución de este problema, no se garantizará encontrar una solución óptima, pero en los últimos dos métodos encontraremos soluciones buenas."
      ]
    },
    {
      "cell_type": "code",
      "metadata": {
        "id": "v-vlguZd1qVe"
      },
      "source": [
        ""
      ],
      "execution_count": 169,
      "outputs": []
    },
    {
      "cell_type": "markdown",
      "metadata": {
        "id": "2U2vY0JB2E4a"
      },
      "source": [
        "### Búsqueda aleatoria"
      ]
    },
    {
      "cell_type": "code",
      "metadata": {
        "id": "_83Z3Uy-kBif"
      },
      "source": [
        "def busqueda_aleatoria(problem, num_iter, verbose=True):\r\n",
        "  # Esta función generará n soluciones aleatorias\r\n",
        "  # y retornará la mejor de ellas y su correspondiente distancia\r\n",
        "  # esta función retorna una tupla (mejor_sol, dist)\r\n",
        "  n = len(list(problem.get_nodes()))\r\n",
        "  mejor_solucion = None\r\n",
        "  mejor_distancia = np.inf\r\n",
        "\r\n",
        "  for i in range(num_iter):\r\n",
        "    solucion_actual = crear_solucion(n)\r\n",
        "    dist_actual = distancia_total(solucion_actual, problem)\r\n",
        "\r\n",
        "    if dist_actual <= mejor_distancia:\r\n",
        "      mejor_solucion = solucion_actual\r\n",
        "      mejor_distancia = dist_actual\r\n",
        "      if verbose:\r\n",
        "        print(f\"iteración {i}, distancia: {mejor_distancia}\")\r\n",
        "        print(mejor_solucion)\r\n",
        "        print()\r\n",
        "  return mejor_solucion, mejor_distancia"
      ],
      "execution_count": 170,
      "outputs": []
    },
    {
      "cell_type": "code",
      "metadata": {
        "colab": {
          "base_uri": "https://localhost:8080/"
        },
        "id": "ZDzjCqYSkB_E",
        "outputId": "08c49ade-2c66-489f-b78f-8f5c05d91167"
      },
      "source": [
        "solucion, dist = busqueda_aleatoria(problem, 10000, False)\r\n",
        "print(\"Mejor solución:\",solucion)\r\n",
        "print(\"Distancia:\", dist)    "
      ],
      "execution_count": 171,
      "outputs": [
        {
          "output_type": "stream",
          "text": [
            "Mejor solución: [33 14 22 28 16 32 37 13 19  0 27 25 21  9  4 15 34  2  3 30 29 40 24 39\n",
            " 23 41  7  5 10 17 36 31 20  8  6 12  1 26 18 11 35 38]\n",
            "Distancia: 3706\n"
          ],
          "name": "stdout"
        }
      ]
    },
    {
      "cell_type": "code",
      "metadata": {
        "id": "DcOR5UL1kCBf"
      },
      "source": [
        ""
      ],
      "execution_count": 171,
      "outputs": []
    },
    {
      "cell_type": "code",
      "metadata": {
        "id": "v_IeJY_p2L01"
      },
      "source": [
        ""
      ],
      "execution_count": 171,
      "outputs": []
    },
    {
      "cell_type": "markdown",
      "metadata": {
        "id": "NR2BqKAg2NF1"
      },
      "source": [
        "### Búsqueda local"
      ]
    },
    {
      "cell_type": "code",
      "metadata": {
        "colab": {
          "base_uri": "https://localhost:8080/"
        },
        "id": "DY0U6-UqrKgd",
        "outputId": "f8b9b9a4-43f4-4f9b-dc09-89dcf70b9e7d"
      },
      "source": [
        "def swap_indices(lista, i, j):\r\n",
        "  # esta función retorna una lista donde los elementos en las posiciones\r\n",
        "  # i y j están intercambiados respecto a la lista original\r\n",
        "  # ejemplo: [1, 2, 3, 4, 5], i=1, j=3\r\n",
        "  # intercambirá los elementos en las posiciones i y j\r\n",
        "  # retornará: [1, 4, 3, 2, 5] Nótese como se intercambiarón el 2 y el 4\r\n",
        "  resp = lista.copy()\r\n",
        "  resp[i], resp[j] = lista[j], lista[i]\r\n",
        "  return resp\r\n",
        "swap_indices([1, 2, 3, 4, 5], 1, 3)"
      ],
      "execution_count": 172,
      "outputs": [
        {
          "output_type": "execute_result",
          "data": {
            "text/plain": [
              "[1, 4, 3, 2, 5]"
            ]
          },
          "metadata": {
            "tags": []
          },
          "execution_count": 172
        }
      ]
    },
    {
      "cell_type": "code",
      "metadata": {
        "id": "8aOz--SjkCD_"
      },
      "source": [
        "def generar_vecinos_1(solucion):\r\n",
        "  # genera soluciones vecinas cambiando todas las parejas posibles de nodos\r\n",
        "  \r\n",
        "  n = len(solucion)\r\n",
        "  vecinos = [] # lista con todas las soluciones vecinas\r\n",
        "  \r\n",
        "  for i in range(n-1):\r\n",
        "    for j in range(i+1, n):\r\n",
        "      vecino = swap_indices(solucion, i, j)\r\n",
        "      vecinos.append(vecino)\r\n",
        "  return vecinos\r\n",
        "\r\n",
        "def get_mejor_vecino(solucion, problem, generador_vecindad=generar_vecinos_1):\r\n",
        "  # esta función retorna la solución vecina con mejor desempeño\r\n",
        "  # y retorna también la mejor distancia\r\n",
        "  # recibe la solucion de referencia\r\n",
        "  # y la función generadora de vecindad\r\n",
        "\r\n",
        "  # 1. Generar todos los vecinos según la función generadora de vecindad\r\n",
        "  vecinos = generador_vecindad(solucion)\r\n",
        "\r\n",
        "  mejor_vecino = None\r\n",
        "  mejor_distancia = np.inf\r\n",
        "  for vecino in vecinos:\r\n",
        "    dist_actual = distancia_total(vecino, problem)\r\n",
        "    if dist_actual <= mejor_distancia:\r\n",
        "      mejor_vecino = vecino\r\n",
        "      mejor_distancia = dist_actual\r\n",
        "  return mejor_vecino, mejor_distancia\r\n"
      ],
      "execution_count": 173,
      "outputs": []
    },
    {
      "cell_type": "code",
      "metadata": {
        "id": "EdGK4oTZkCJE"
      },
      "source": [
        "def busqueda_local(problem, max_iter= 1000, solucion=None, verbose=False, generador_vecindad=generar_vecinos_1):\r\n",
        "  # Esta función realizará una búsqueda local exhaustiva.\r\n",
        "  # el punto de partida puede ser una solución pasada como argumento, en caso\r\n",
        "  # de que este no sea entregado, el punto de partida será una solución aleatoria\r\n",
        "  # se puede modificar el generador de vecindad\r\n",
        "\r\n",
        "\r\n",
        "  n = len(list(problem.get_nodes()))\r\n",
        "  \r\n",
        "  # 1. Generar solución de referencia\r\n",
        "  # será igual a la solucion si esta fue pasada como argumento\r\n",
        "  # de otro modo será una solucion aleatoria\r\n",
        "  solucion_referencia = solucion if solucion is not None else crear_solucion(n) \r\n",
        "  \r\n",
        "  # se inicializan la mejor solución y mejor distancia\r\n",
        "  mejor_solucion = solucion_referencia\r\n",
        "  mejor_distancia = distancia_total(mejor_solucion, problem)\r\n",
        "\r\n",
        "  iteracion = 0 # contador para saber en qué iteración vamos\r\n",
        "  hubo_mejora = True # marca para controlar si se mejoró o sino parar el algoritmo\r\n",
        "  while iteracion < max_iter and hubo_mejora:\r\n",
        "    iteracion += 1\r\n",
        "\r\n",
        "    # se obtiene el mejor vecino con su respectiva distancia\r\n",
        "    vecino, dist_vecino = get_mejor_vecino(solucion_referencia, problem, generador_vecindad=generador_vecindad)\r\n",
        "\r\n",
        "    if dist_vecino < mejor_distancia:\r\n",
        "      mejor_solucion = vecino\r\n",
        "      mejor_distancia = dist_vecino\r\n",
        "    else:\r\n",
        "      hubo_mejora = False\r\n",
        "    \r\n",
        "    if verbose:\r\n",
        "      print(f\"iteracion: {iteracion}, mejor_distancia: {mejor_distancia}\")\r\n",
        "      print(f\"mejor_solucion {mejor_solucion}\")\r\n",
        "      print()\r\n",
        "    solucion_referencia = vecino\r\n",
        "\r\n",
        "  return mejor_solucion, mejor_distancia, iteracion"
      ],
      "execution_count": 174,
      "outputs": []
    },
    {
      "cell_type": "code",
      "metadata": {
        "colab": {
          "base_uri": "https://localhost:8080/"
        },
        "id": "xyovNTsekCLj",
        "outputId": "70dcabcc-0a19-4acc-a1f5-be1ba383c560"
      },
      "source": [
        "# busqueda_local(problem, verbose=True)\r\n",
        "solucion, dist, iteracion = busqueda_local(problem)\r\n",
        "print(f\"en la iteración {iteracion} la mejor solución encontrada es: {solucion}\")\r\n",
        "print(\"Distancia\", dist)"
      ],
      "execution_count": 175,
      "outputs": [
        {
          "output_type": "stream",
          "text": [
            "en la iteración 34 la mejor solución encontrada es: [ 2  3  0  7 37 15 16 14 19 13  5 26  6  1 17 31 36 35 20 29  8 41 10 25\n",
            " 11 12 18  4 27 28 30 32 34 33 38 22 39 21 24 40 23  9]\n",
            "Distancia 1592\n"
          ],
          "name": "stdout"
        }
      ]
    },
    {
      "cell_type": "code",
      "metadata": {
        "id": "XfDiCrqYkCN3"
      },
      "source": [
        ""
      ],
      "execution_count": 191,
      "outputs": []
    },
    {
      "cell_type": "code",
      "metadata": {
        "id": "bRwGW2bMjyRC"
      },
      "source": [
        ""
      ],
      "execution_count": null,
      "outputs": []
    },
    {
      "cell_type": "markdown",
      "metadata": {
        "id": "E1o1RNlU2U4a"
      },
      "source": [
        "### Recocido simulado"
      ]
    },
    {
      "cell_type": "code",
      "metadata": {
        "id": "uU0un4kGhmjH"
      },
      "source": [
        "def get_random_neighbor(solucion):\r\n",
        "  # esta función retorna un vecino aleatorio para la solución dada\r\n",
        "  n = len(solucion)\r\n",
        "\r\n",
        "  # se obtienen los índices aleatorios a cambiar\r\n",
        "  ind_a, ind_b = np.random.choice(range(n), 2, replace=False)\r\n",
        "\r\n",
        "  return swap_indices(solucion, ind_a, ind_b)\r\n",
        "\r\n",
        "def aceptar_por_probabilidad(temperatura, delta):\r\n",
        "  epsilon = np.finfo(float).eps # epsilon para evitar divisiones por cero\r\n",
        "  return random.random() < math.exp(-delta/(temperatura+epsilon))\r\n",
        "  \r\n",
        "def bajar_temperatura(temperatura, proporcion = 0.99):\r\n",
        "  # esta función baja la temperatura por el método de descenso exponencial\r\n",
        "  return temperatura*proporcion"
      ],
      "execution_count": 176,
      "outputs": []
    },
    {
      "cell_type": "code",
      "metadata": {
        "id": "MVS1KxFJkCQL"
      },
      "source": [
        "def recocido_simulado(problem, temperatura, mejor_vecino=False, max_iter= 1000, solucion = None, min_temp = 0.0001, verbose = False):\r\n",
        "  # esta función ejecuta una búsqueda por el método de recocido simulado\r\n",
        "  # temperatura: es la temperatura inicial del método\r\n",
        "  # mejor_vecino: una variable booleana que indica si buscar el mejor de entre todos los vecinos\r\n",
        "  #               cuando está en True, y sólo buscará un vecino aleatorio cuando está en False\r\n",
        "  # max_iter: máximo número de iteraciones, usado como criterio de parada\r\n",
        "  # solucion: solución de partida, si no se pasa una solución se generará una aleatoria\r\n",
        "  # min_tem: la temperatura mínima, usada como criterio de parada del algoritmo\r\n",
        "  # verbose: variable booleana para indicar si se requiere imprimir el avance por pantalla o no\r\n",
        "\r\n",
        "  n = len(list(problem.get_nodes()))\r\n",
        "  solucion_referencia = solucion if solucion is not None else crear_solucion(n)\r\n",
        "  dist_referencia = distancia_total(solucion_referencia, problem)\r\n",
        "\r\n",
        "  mejor_solucion = None\r\n",
        "  mejor_distancia = np.inf\r\n",
        "\r\n",
        "  iteracion = 0\r\n",
        "  while temperatura>min_temp and iteracion < max_iter:\r\n",
        "    iteracion += 1\r\n",
        "\r\n",
        "    # forma de obtener el mejor vecino\r\n",
        "    if mejor_vecino:\r\n",
        "      vecino = get_mejor_vecino(solucion_referencia, problem)[0]\r\n",
        "    else:\r\n",
        "      vecino = get_random_neighbor(solucion_referencia)\r\n",
        "    # cálculo de la distancia del vecino\r\n",
        "    dist_vecino = distancia_total(vecino, problem)\r\n",
        "\r\n",
        "    # Actualización de la mejor solución\r\n",
        "    if dist_vecino < mejor_distancia:\r\n",
        "      mejor_solucion = vecino\r\n",
        "      mejor_distancia = dist_vecino\r\n",
        "\r\n",
        "    # Actualización de la solución de referencia\r\n",
        "    if dist_vecino < dist_referencia or aceptar_por_probabilidad(temperatura, abs(dist_vecino-dist_referencia)):\r\n",
        "      solucion_referencia = vecino\r\n",
        "      dist_referencia = dist_vecino\r\n",
        "    \r\n",
        "    # se baja la temperatura\r\n",
        "    temperatura = bajar_temperatura(temperatura)\r\n",
        "\r\n",
        "    if verbose:\r\n",
        "      print(\"iteración\", iteracion)\r\n",
        "      print(\"temperatura restante:\", temperatura)\r\n",
        "      print(\"mejor distancia\", mejor_distancia)\r\n",
        "      print(\"mejor solucion\", mejor_solucion)\r\n",
        "      print()\r\n",
        "  \r\n",
        "  return mejor_solucion, mejor_distancia, iteracion\r\n",
        "\r\n"
      ],
      "execution_count": 177,
      "outputs": []
    },
    {
      "cell_type": "code",
      "metadata": {
        "colab": {
          "base_uri": "https://localhost:8080/"
        },
        "id": "5R1texmvp8FF",
        "outputId": "d95010d8-e33e-4fbe-ada5-29fe45941129"
      },
      "source": [
        "# recocido simulado elección aleatoria\r\n",
        "solucion, dist, iteracion = recocido_simulado(problem, 100000,max_iter=10000)\r\n",
        "print(f\"en la iteración {iteracion} la mejor solución encontrada es: {solucion}\")\r\n",
        "print(\"Distancia\", dist)"
      ],
      "execution_count": 181,
      "outputs": [
        {
          "output_type": "stream",
          "text": [
            "en la iteración 2062 la mejor solución encontrada es: [33 32 28 10 41  9 23 40 24 21 39 27  6 26 18 12  8 29 30 22 38  2  3  5\n",
            " 13 19 14 16  1  0 34 20 17 37 15 11 25  4  7 31 36 35]\n",
            "Distancia 2075\n"
          ],
          "name": "stdout"
        }
      ]
    },
    {
      "cell_type": "code",
      "metadata": {
        "id": "flhOpZ0Q2cCt"
      },
      "source": [
        ""
      ],
      "execution_count": 191,
      "outputs": []
    },
    {
      "cell_type": "code",
      "metadata": {
        "id": "4eh8RJX3jzSi"
      },
      "source": [
        ""
      ],
      "execution_count": null,
      "outputs": []
    },
    {
      "cell_type": "markdown",
      "metadata": {
        "id": "03u9UCT22qGT"
      },
      "source": [
        "## Mejorar Nota:\r\n",
        "Encontrar mejoras a los 2 métodos anteriores"
      ]
    },
    {
      "cell_type": "markdown",
      "metadata": {
        "id": "2A8OydC4gj8t"
      },
      "source": [
        "### Mejora a la búsqueda local\r\n",
        "Se implementará una métrica de vecindad donde no se cambian 2 nodos sino 3 nodos.\r\n",
        "Esto implica que cada solución tendrá muchos más vecinos, generando también que el tiempo computacional crezca"
      ]
    },
    {
      "cell_type": "code",
      "metadata": {
        "id": "M83_OtbmggWd"
      },
      "source": [
        "def generar_vecinos_2(solucion):\r\n",
        "  # genera soluciones vecinas cambiando todos los tríos de nodos posibles\r\n",
        "  \r\n",
        "  n = len(solucion)\r\n",
        "  vecinos = [] # lista con todas las soluciones vecinas\r\n",
        "  \r\n",
        "  for i in range(n-2):\r\n",
        "    for j in range(i+1, n-1):\r\n",
        "      for k in range(j+1, n):\r\n",
        "        vec1 = swap_indices(solucion, i, j)\r\n",
        "        vec2 = swap_indices(solucion, i, k)\r\n",
        "        vec3 = swap_indices(solucion, k, k)\r\n",
        "        vecinos += [vec1, vec2, vec3]\r\n",
        "  return vecinos"
      ],
      "execution_count": 190,
      "outputs": []
    },
    {
      "cell_type": "markdown",
      "metadata": {
        "id": "Im8qQ6_oh_Ov"
      },
      "source": [
        "Se creó otra función de vecindad y esta se pasa al método de búsqueda local, así que no se tiene que modificar nada del código usado en la sección correspondiente."
      ]
    },
    {
      "cell_type": "code",
      "metadata": {
        "colab": {
          "base_uri": "https://localhost:8080/"
        },
        "id": "gNPXvGisghdp",
        "outputId": "874e8d2c-238d-4d93-8eb8-c1d308a02b42"
      },
      "source": [
        "solucion, dist, iteracion = busqueda_local(problem, generador_vecindad=generar_vecinos_2, verbose=True)\r\n",
        "print(f\"en la iteración {iteracion} la mejor solución encontrada es: {solucion}\")\r\n",
        "print(\"Distancia\", dist)"
      ],
      "execution_count": 191,
      "outputs": [
        {
          "output_type": "stream",
          "text": [
            "iteracion: 1, mejor_distancia: 4208\n",
            "mejor_solucion [14 26 18 10  8  6 37  3 35 20 36  2 19  5 39 23 32 15 41 27 25 33 11 28\n",
            "  9 34 30 29 31  1 22 38  7 21 24 40  0 13 17 12  4 16]\n",
            "\n",
            "iteracion: 2, mejor_distancia: 3871\n",
            "mejor_solucion [14 26 18 10  8  6 37  3 35 20 36  2 19  5 39 23 32 15 41 27 25 12 11 28\n",
            "  9 34 30 29 31  1 22 38  7 21 24 40  0 13 17 33  4 16]\n",
            "\n",
            "iteracion: 3, mejor_distancia: 3557\n",
            "mejor_solucion [14 26 18 10  8  6 37  3 35 20 36  2 19  5 39 23 32 15  7 27 25 12 11 28\n",
            "  9 34 30 29 31  1 22 38 41 21 24 40  0 13 17 33  4 16]\n",
            "\n",
            "iteracion: 4, mejor_distancia: 3281\n",
            "mejor_solucion [14 26 18 10  8  6 37 36 35 20  3  2 19  5 39 23 32 15  7 27 25 12 11 28\n",
            "  9 34 30 29 31  1 22 38 41 21 24 40  0 13 17 33  4 16]\n",
            "\n",
            "iteracion: 5, mejor_distancia: 3076\n",
            "mejor_solucion [14 26 18 10  8  6 37 36 35 20  3  2 19  5 41 23 32 15  7 27 25 12 11 28\n",
            "  9 34 30 29 31  1 22 38 39 21 24 40  0 13 17 33  4 16]\n",
            "\n",
            "iteracion: 6, mejor_distancia: 2911\n",
            "mejor_solucion [14 26 18 10  8  6 37 36 35 20  3  2 19  5 41 23 32 15  7 27 25 12 11 28\n",
            "  9 34 30 29  4  1 22 38 39 21 24 40  0 13 17 33 31 16]\n",
            "\n",
            "iteracion: 7, mejor_distancia: 2754\n",
            "mejor_solucion [14 26 18 10  8  6 37 36 35 20  3  2 19  5 41 23  9 15  7 27 25 12 11 28\n",
            " 32 34 30 29  4  1 22 38 39 21 24 40  0 13 17 33 31 16]\n",
            "\n",
            "iteracion: 8, mejor_distancia: 2685\n",
            "mejor_solucion [14 26 18 10  8  6 37 36 35 20  3  2 19  5 41 23  9 13  7 27 25 12 11 28\n",
            " 32 34 30 29  4  1 22 38 39 21 24 40  0 15 17 33 31 16]\n",
            "\n",
            "iteracion: 9, mejor_distancia: 2614\n",
            "mejor_solucion [14 26 18 10  8  6 37 36 35 20  3 13 19  5 41 23  9  2  7 27 25 12 11 28\n",
            " 32 34 30 29  4  1 22 38 39 21 24 40  0 15 17 33 31 16]\n",
            "\n",
            "iteracion: 10, mejor_distancia: 2499\n",
            "mejor_solucion [14 26 18 10  8  6 37 36 35 20  7 13 19  5 41 23  9  2  3 27 25 12 11 28\n",
            " 32 34 30 29  4  1 22 38 39 21 24 40  0 15 17 33 31 16]\n",
            "\n",
            "iteracion: 11, mejor_distancia: 2427\n",
            "mejor_solucion [14 26 18 10  8  6 37 36 35 31  7 13 19  5 41 23  9  2  3 27 25 12 11 28\n",
            " 32 34 30 29  4  1 22 38 39 21 24 40  0 15 17 33 20 16]\n",
            "\n",
            "iteracion: 12, mejor_distancia: 2389\n",
            "mejor_solucion [14 26 18 10  8  6 37 36 35 31 15 13 19  5 41 23  9  2  3 27 25 12 11 28\n",
            " 32 34 30 29  4  1 22 38 39 21 24 40  0  7 17 33 20 16]\n",
            "\n",
            "iteracion: 13, mejor_distancia: 2360\n",
            "mejor_solucion [14 26 18 10  8  6 37 36 35 31 15 13 19  5 41 23  9  2  3 27 25 12 11  1\n",
            " 32 34 30 29  4 28 22 38 39 21 24 40  0  7 17 33 20 16]\n",
            "\n",
            "iteracion: 14, mejor_distancia: 2322\n",
            "mejor_solucion [14 26 18 10  8  6 37 36 35 31 15 13 19  5 41 23  9  2  3  4 25 12 11  1\n",
            " 32 34 30 29 27 28 22 38 39 21 24 40  0  7 17 33 20 16]\n",
            "\n",
            "iteracion: 15, mejor_distancia: 2299\n",
            "mejor_solucion [14 26 18 10  8  6 37 36 35 31 15 13 19  5 41 23  9  2  3  4 25 12 11  1\n",
            " 32 34 30 29 27 28 38 22 39 21 24 40  0  7 17 33 20 16]\n",
            "\n",
            "iteracion: 16, mejor_distancia: 2276\n",
            "mejor_solucion [14 26 18 10  8  6 37 36 35 31 15 19 13  5 41 23  9  2  3  4 25 12 11  1\n",
            " 32 34 30 29 27 28 38 22 39 21 24 40  0  7 17 33 20 16]\n",
            "\n",
            "iteracion: 17, mejor_distancia: 2252\n",
            "mejor_solucion [14 26 18 10  8  6 37 36 35 31 15 19 13 25 41 23  9  2  3  4  5 12 11  1\n",
            " 32 34 30 29 27 28 38 22 39 21 24 40  0  7 17 33 20 16]\n",
            "\n",
            "iteracion: 18, mejor_distancia: 2230\n",
            "mejor_solucion [14 26 18 10  8  6 37 36 35 31 15 19 13 25 41 23  9  2  3  4 11 12  5  1\n",
            " 32 34 30 29 27 28 38 22 39 21 24 40  0  7 17 33 20 16]\n",
            "\n",
            "iteracion: 19, mejor_distancia: 2209\n",
            "mejor_solucion [14 26 18 10  8  6 37 36 35 31 15 19 13 25 41 23  9  2  3  4 11 12  5  1\n",
            " 32 34 30 29 27 28 38 22 39 21 24 40  0  7 20 33 17 16]\n",
            "\n",
            "iteracion: 20, mejor_distancia: 2195\n",
            "mejor_solucion [14 26 18 10  8  6 31 36 35 37 15 19 13 25 41 23  9  2  3  4 11 12  5  1\n",
            " 32 34 30 29 27 28 38 22 39 21 24 40  0  7 20 33 17 16]\n",
            "\n",
            "iteracion: 21, mejor_distancia: 2171\n",
            "mejor_solucion [14 26 18 10  8  6 31 35 36 37 15 19 13 25 41 23  9  2  3  4 11 12  5  1\n",
            " 32 34 30 29 27 28 38 22 39 21 24 40  0  7 20 33 17 16]\n",
            "\n",
            "iteracion: 22, mejor_distancia: 2159\n",
            "mejor_solucion [14 26 18 10  8  0 31 35 36 37 15 19 13 25 41 23  9  2  3  4 11 12  5  1\n",
            " 32 34 30 29 27 28 38 22 39 21 24 40  6  7 20 33 17 16]\n",
            "\n",
            "iteracion: 23, mejor_distancia: 2135\n",
            "mejor_solucion [14 26 18 10  2  0 31 35 36 37 15 19 13 25 41 23  9  8  3  4 11 12  5  1\n",
            " 32 34 30 29 27 28 38 22 39 21 24 40  6  7 20 33 17 16]\n",
            "\n",
            "iteracion: 24, mejor_distancia: 2101\n",
            "mejor_solucion [14 26 18  3  2  0 31 35 36 37 15 19 13 25 41 23  9  8 10  4 11 12  5  1\n",
            " 32 34 30 29 27 28 38 22 39 21 24 40  6  7 20 33 17 16]\n",
            "\n",
            "iteracion: 25, mejor_distancia: 2013\n",
            "mejor_solucion [14 26  4  3  2  0 31 35 36 37 15 19 13 25 41 23  9  8 10 18 11 12  5  1\n",
            " 32 34 30 29 27 28 38 22 39 21 24 40  6  7 20 33 17 16]\n",
            "\n",
            "iteracion: 26, mejor_distancia: 1978\n",
            "mejor_solucion [14 26  4  3  2  0 31 35 36 37 15 19 13 25 41 23  9  8 10 12 11 18  5  1\n",
            " 32 34 30 29 27 28 38 22 39 21 24 40  6  7 20 33 17 16]\n",
            "\n",
            "iteracion: 27, mejor_distancia: 1959\n",
            "mejor_solucion [14  5  4  3  2  0 31 35 36 37 15 19 13 25 41 23  9  8 10 12 11 18 26  1\n",
            " 32 34 30 29 27 28 38 22 39 21 24 40  6  7 20 33 17 16]\n",
            "\n",
            "iteracion: 28, mejor_distancia: 1949\n",
            "mejor_solucion [14  5  4  3  2  0 31 35 36 37 15 19 13 25 41 23  9  8 10 12 11 18 26  6\n",
            " 32 34 30 29 27 28 38 22 39 21 24 40  1  7 20 33 17 16]\n",
            "\n",
            "iteracion: 29, mejor_distancia: 1939\n",
            "mejor_solucion [14  5  4  3  2  7 31 35 36 37 15 19 13 25 41 23  9  8 10 12 11 18 26  6\n",
            " 32 34 30 29 27 28 38 22 39 21 24 40  1  0 20 33 17 16]\n",
            "\n",
            "iteracion: 30, mejor_distancia: 1900\n",
            "mejor_solucion [14  5  4  3  1  7 31 35 36 37 15 19 13 25 41 23  9  8 10 12 11 18 26  6\n",
            " 32 34 30 29 27 28 38 22 39 21 24 40  2  0 20 33 17 16]\n",
            "\n",
            "iteracion: 31, mejor_distancia: 1882\n",
            "mejor_solucion [14  5  4  3  1  7 31 35 36 37 15 19 13 25 41 23  9  8 10 12 11 18 26  6\n",
            " 32  0 30 29 27 28 38 22 39 21 24 40  2 34 20 33 17 16]\n",
            "\n",
            "iteracion: 32, mejor_distancia: 1821\n",
            "mejor_solucion [14  5  4  3  1  7 31 35 36 37 15 19 13 25 41 23  9  8 10 12 11 18 26  6\n",
            "  2  0 30 29 27 28 38 22 39 21 24 40 32 34 20 33 17 16]\n",
            "\n",
            "iteracion: 33, mejor_distancia: 1793\n",
            "mejor_solucion [14  5  4  3  1  7 31 35 36 37 15 19 13 25 41 23  9  8 10 12 11 18 26  6\n",
            "  2  0 27 29 30 28 38 22 39 21 24 40 32 34 20 33 17 16]\n",
            "\n",
            "iteracion: 34, mejor_distancia: 1752\n",
            "mejor_solucion [14  5  4  3  1  7 31 35 36 37 15 19 13 25 41 23  9  8 10 12 11 18 26  6\n",
            "  2  0 27 28 30 29 38 22 39 21 24 40 32 34 20 33 17 16]\n",
            "\n",
            "iteracion: 35, mejor_distancia: 1725\n",
            "mejor_solucion [14  5  4  3  1  7 31 35 36 37 15 19 13 25 41 23  9  8 10 12 11 18 26  6\n",
            "  0  2 27 28 30 29 38 22 39 21 24 40 32 34 20 33 17 16]\n",
            "\n",
            "iteracion: 36, mejor_distancia: 1702\n",
            "mejor_solucion [14  5  4  3  1  7 31 35 36 37 15 19 13 25 41 23  9  8 10 12 11 18 26  6\n",
            "  0  2 27 28 30 29 38 22 39 21 24 40 32 34 33 20 17 16]\n",
            "\n",
            "iteracion: 37, mejor_distancia: 1689\n",
            "mejor_solucion [14  5  4  0  1  7 31 35 36 37 15 19 13 25 41 23  9  8 10 12 11 18 26  6\n",
            "  3  2 27 28 30 29 38 22 39 21 24 40 32 34 33 20 17 16]\n",
            "\n",
            "iteracion: 38, mejor_distancia: 1667\n",
            "mejor_solucion [14  5  6  0  1  7 31 35 36 37 15 19 13 25 41 23  9  8 10 12 11 18 26  4\n",
            "  3  2 27 28 30 29 38 22 39 21 24 40 32 34 33 20 17 16]\n",
            "\n",
            "iteracion: 39, mejor_distancia: 1655\n",
            "mejor_solucion [14  5  6  0  1  7 31 35 36 37 15 19 13 25 41 23  9  8 10 12 11 18 26  4\n",
            "  3  2 27 28 29 30 38 22 39 21 24 40 32 34 33 20 17 16]\n",
            "\n",
            "iteracion: 40, mejor_distancia: 1646\n",
            "mejor_solucion [14  5  6  1  0  7 31 35 36 37 15 19 13 25 41 23  9  8 10 12 11 18 26  4\n",
            "  3  2 27 28 29 30 38 22 39 21 24 40 32 34 33 20 17 16]\n",
            "\n",
            "iteracion: 41, mejor_distancia: 1638\n",
            "mejor_solucion [14  5  6  1  0  7 31 35 36 37 15 19 13 25 41 23  9  8 10 11 12 18 26  4\n",
            "  3  2 27 28 29 30 38 22 39 21 24 40 32 34 33 20 17 16]\n",
            "\n",
            "iteracion: 42, mejor_distancia: 1632\n",
            "mejor_solucion [14  5  6  1  0  7 31 35 36 37 15 19 13 25 41 23  9  8 10 11 12 18 26  4\n",
            "  3  2 27 28 29 30 38 22 39 21 40 24 32 34 33 20 17 16]\n",
            "\n",
            "iteracion: 43, mejor_distancia: 1628\n",
            "mejor_solucion [14  5  6  1  0  7 31 35 36 37 16 19 13 25 41 23  9  8 10 11 12 18 26  4\n",
            "  3  2 27 28 29 30 38 22 39 21 40 24 32 34 33 20 17 15]\n",
            "\n",
            "iteracion: 44, mejor_distancia: 1625\n",
            "mejor_solucion [14  5  6  1  0  7 31 35 36 37 16 19 13 25 41 23  9  8 10 11 12 18 26  4\n",
            "  3  2 27 28 29 30 38 22 39 24 40 21 32 34 33 20 17 15]\n",
            "\n",
            "iteracion: 45, mejor_distancia: 1624\n",
            "mejor_solucion [14  5  6  1  0  7 31 35 36 15 16 19 13 25 41 23  9  8 10 11 12 18 26  4\n",
            "  3  2 27 28 29 30 38 22 39 24 40 21 32 34 33 20 17 37]\n",
            "\n",
            "iteracion: 46, mejor_distancia: 1624\n",
            "mejor_solucion [14  5  6  1  0  7 31 35 36 15 16 19 13 25 41 23  9  8 10 11 12 18 26  4\n",
            "  3  2 27 28 29 30 38 22 39 24 40 21 32 34 33 20 17 37]\n",
            "\n",
            "en la iteración 46 la mejor solución encontrada es: [14  5  6  1  0  7 31 35 36 15 16 19 13 25 41 23  9  8 10 11 12 18 26  4\n",
            "  3  2 27 28 29 30 38 22 39 24 40 21 32 34 33 20 17 37]\n",
            "Distancia 1624\n"
          ],
          "name": "stdout"
        }
      ]
    },
    {
      "cell_type": "markdown",
      "metadata": {
        "id": "w2LY94y9iw5f"
      },
      "source": [
        "Este método no demuestra mejores resultados que la vecindad definida en la sección de búsqueda local.\r\n",
        "\r\n",
        "No se puede concluir que el método de vecindad con el criterio 2-opt sea el mejor, con el experimento acá presentado sólo podemos concluir que la métrica presentada modificando 3 nodos **NO** es mejor que la 2-opt"
      ]
    },
    {
      "cell_type": "code",
      "metadata": {
        "id": "dPgv-DXw2yZv"
      },
      "source": [
        ""
      ],
      "execution_count": 191,
      "outputs": []
    },
    {
      "cell_type": "code",
      "metadata": {
        "id": "i11cFYssj1kF"
      },
      "source": [
        ""
      ],
      "execution_count": null,
      "outputs": []
    },
    {
      "cell_type": "markdown",
      "metadata": {
        "id": "DQETo0zG21Ns"
      },
      "source": [
        "### Mejora al recocido simulado\r\n",
        "En esta sección experimentaremos con una variación al recocido simulado, donde a la hora de encontrar un vecino, no nos iremos por uno __aleatorio__ sino que escogeremos al mejor vecino posible"
      ]
    },
    {
      "cell_type": "code",
      "metadata": {
        "colab": {
          "base_uri": "https://localhost:8080/"
        },
        "id": "SWPSmiaLgbDS",
        "outputId": "3aa78cfc-c7d8-4cd9-865f-c4bdc02df77f"
      },
      "source": [
        "# recocido simulado elección exhaustiva: cambiamos el parámetro \"mejor_vecino\" a True\r\n",
        "solucion, dist, iteracion = recocido_simulado(problem, 1000,mejor_vecino=True, max_iter=50, verbose=True)\r\n",
        "print(f\"en la iteración {iteracion} la mejor solución encontrada es: {solucion}\")\r\n",
        "print(\"Distancia\", dist)"
      ],
      "execution_count": 179,
      "outputs": [
        {
          "output_type": "stream",
          "text": [
            "iteración 1\n",
            "temperatura restante: 990.0\n",
            "mejor distancia 4730\n",
            "mejor solucion [25  2  9 10 33  3 38 15 30 32  5 22 31 12 16 11 14 36  0 29 41 24 21  6\n",
            " 37 35 19 26 27 17 40 39  4  7  1 23 20 28  8 13 34 18]\n",
            "\n",
            "iteración 2\n",
            "temperatura restante: 980.1\n",
            "mejor distancia 4297\n",
            "mejor solucion [25  2  9 10 33  3 38 22 30 32  5 15 31 12 16 11 14 36  0 29 41 24 21  6\n",
            " 37 35 19 26 27 17 40 39  4  7  1 23 20 28  8 13 34 18]\n",
            "\n",
            "iteración 3\n",
            "temperatura restante: 970.299\n",
            "mejor distancia 3958\n",
            "mejor solucion [25  2  9 10 33  3 38 22 30 32  5 15 31 12 16 11 14 36  0 29 41 24 21  6\n",
            " 37 35 19 26 27 23 40 39  4  7  1 17 20 28  8 13 34 18]\n",
            "\n",
            "iteración 4\n",
            "temperatura restante: 960.59601\n",
            "mejor distancia 3642\n",
            "mejor solucion [25  2  9 10 33 34 38 22 30 32  5 15 31 12 16 11 14 36  0 29 41 24 21  6\n",
            " 37 35 19 26 27 23 40 39  4  7  1 17 20 28  8 13  3 18]\n",
            "\n",
            "iteración 5\n",
            "temperatura restante: 950.9900498999999\n",
            "mejor distancia 3411\n",
            "mejor solucion [25  2  9 10 33 34 38 22 30 32  5 15 31 12 11 16 14 36  0 29 41 24 21  6\n",
            " 37 35 19 26 27 23 40 39  4  7  1 17 20 28  8 13  3 18]\n",
            "\n",
            "iteración 6\n",
            "temperatura restante: 941.480149401\n",
            "mejor distancia 3249\n",
            "mejor solucion [25  8  9 10 33 34 38 22 30 32  5 15 31 12 11 16 14 36  0 29 41 24 21  6\n",
            " 37 35 19 26 27 23 40 39  4  7  1 17 20 28  2 13  3 18]\n",
            "\n",
            "iteración 7\n",
            "temperatura restante: 932.0653479069899\n",
            "mejor distancia 3104\n",
            "mejor solucion [25  8  9 10 33 34 38 22 30 32  5 15 31 12 11 16 35 36  0 29 41 24 21  6\n",
            " 37 14 19 26 27 23 40 39  4  7  1 17 20 28  2 13  3 18]\n",
            "\n",
            "iteración 8\n",
            "temperatura restante: 922.74469442792\n",
            "mejor distancia 2971\n",
            "mejor solucion [25  8  9 10 33 34 38 22 30 32  5 15 16 12 11 31 35 36  0 29 41 24 21  6\n",
            " 37 14 19 26 27 23 40 39  4  7  1 17 20 28  2 13  3 18]\n",
            "\n",
            "iteración 9\n",
            "temperatura restante: 913.5172474836407\n",
            "mejor distancia 2847\n",
            "mejor solucion [25  8  9 10 33 34 38 22 30 32  5 15 16 12 11 31 35 36  0 29 41 24 21  6\n",
            " 37 14 19 26 13 23 40 39  4  7  1 17 20 28  2 27  3 18]\n",
            "\n",
            "iteración 10\n",
            "temperatura restante: 904.3820750088043\n",
            "mejor distancia 2772\n",
            "mejor solucion [25  8  9 29 33 34 38 22 30 32  5 15 16 12 11 31 35 36  0 10 41 24 21  6\n",
            " 37 14 19 26 13 23 40 39  4  7  1 17 20 28  2 27  3 18]\n",
            "\n",
            "iteración 11\n",
            "temperatura restante: 895.3382542587163\n",
            "mejor distancia 2706\n",
            "mejor solucion [25  8  9 29 33 34 38 22 30 32 37 15 16 12 11 31 35 36  0 10 41 24 21  6\n",
            "  5 14 19 26 13 23 40 39  4  7  1 17 20 28  2 27  3 18]\n",
            "\n",
            "iteración 12\n",
            "temperatura restante: 886.3848717161292\n",
            "mejor distancia 2646\n",
            "mejor solucion [25  8  9 29 33 34 38 22 30 32 37 15 16 12 11 31 35 36  0 10 41 24 21  6\n",
            "  5 14 19 26 13 23 40 39  4  1  7 17 20 28  2 27  3 18]\n",
            "\n",
            "iteración 13\n",
            "temperatura restante: 877.5210229989679\n",
            "mejor distancia 2586\n",
            "mejor solucion [25  8  9 29 33 34 38 22 30 32 37 15 16 13 11 31 35 36  0 10 41 24 21  6\n",
            "  5 14 19 26 12 23 40 39  4  1  7 17 20 28  2 27  3 18]\n",
            "\n",
            "iteración 14\n",
            "temperatura restante: 868.7458127689781\n",
            "mejor distancia 2507\n",
            "mejor solucion [25  8  9 29 33 34 38 22 30 32 37 15 16 13 26 31 35 36  0 10 41 24 21  6\n",
            "  5 14 19 11 12 23 40 39  4  1  7 17 20 28  2 27  3 18]\n",
            "\n",
            "iteración 15\n",
            "temperatura restante: 860.0583546412884\n",
            "mejor distancia 2449\n",
            "mejor solucion [25  8  9 29 33 34 38 22 30 32 37 15 16 14 26 31 35 36  0 10 41 24 21  6\n",
            "  5 13 19 11 12 23 40 39  4  1  7 17 20 28  2 27  3 18]\n",
            "\n",
            "iteración 16\n",
            "temperatura restante: 851.4577710948755\n",
            "mejor distancia 2389\n",
            "mejor solucion [25  8  9 29 33 34 38 22 30 32 37 15 16 14 19 31 35 36  0 10 41 24 21  6\n",
            "  5 13 26 11 12 23 40 39  4  1  7 17 20 28  2 27  3 18]\n",
            "\n",
            "iteración 17\n",
            "temperatura restante: 842.9431933839268\n",
            "mejor distancia 2364\n",
            "mejor solucion [12  8  9 29 33 34 38 22 30 32 37 15 16 14 19 31 35 36  0 10 41 24 21  6\n",
            "  5 13 26 11 25 23 40 39  4  1  7 17 20 28  2 27  3 18]\n",
            "\n",
            "iteración 18\n",
            "temperatura restante: 834.5137614500875\n",
            "mejor distancia 2340\n",
            "mejor solucion [12  8  9 29 33 34 38 22 30 32 37 15 16 14 19 36 35 31  0 10 41 24 21  6\n",
            "  5 13 26 11 25 23 40 39  4  1  7 17 20 28  2 27  3 18]\n",
            "\n",
            "iteración 19\n",
            "temperatura restante: 826.1686238355866\n",
            "mejor distancia 2311\n",
            "mejor solucion [12  8  9 29 33 34 38 22 30 32 19 15 16 14 37 36 35 31  0 10 41 24 21  6\n",
            "  5 13 26 11 25 23 40 39  4  1  7 17 20 28  2 27  3 18]\n",
            "\n",
            "iteración 20\n",
            "temperatura restante: 817.9069375972307\n",
            "mejor distancia 2271\n",
            "mejor solucion [12  8  9 29 33 34 38 22 30 28 19 15 16 14 37 36 35 31  0 10 41 24 21  6\n",
            "  5 13 26 11 25 23 40 39  4  1  7 17 20 32  2 27  3 18]\n",
            "\n",
            "iteración 21\n",
            "temperatura restante: 809.7278682212584\n",
            "mejor distancia 2250\n",
            "mejor solucion [12  8  9 29 33 34 38 22 30 28 19 14 16 15 37 36 35 31  0 10 41 24 21  6\n",
            "  5 13 26 11 25 23 40 39  4  1  7 17 20 32  2 27  3 18]\n",
            "\n",
            "iteración 22\n",
            "temperatura restante: 801.6305895390458\n",
            "mejor distancia 2231\n",
            "mejor solucion [12  8  9 29 33 34 38 22 30 28 19 14 16 15 37 36 35 31  0 10 41 24 40  6\n",
            "  5 13 26 11 25 23 21 39  4  1  7 17 20 32  2 27  3 18]\n",
            "\n",
            "iteración 23\n",
            "temperatura restante: 793.6142836436553\n",
            "mejor distancia 2218\n",
            "mejor solucion [12  8  9 29 33 34 38 22 30 28 19 14 16 15 37 36 35 31  0 10 41 40 24  6\n",
            "  5 13 26 11 25 23 21 39  4  1  7 17 20 32  2 27  3 18]\n",
            "\n",
            "iteración 24\n",
            "temperatura restante: 785.6781408072187\n",
            "mejor distancia 2208\n",
            "mejor solucion [12  8  9 29 33 34 38 22 30 28 19 14 16 15 37 36 35 20  0 10 41 40 24  6\n",
            "  5 13 26 11 25 23 21 39  4  1  7 17 31 32  2 27  3 18]\n",
            "\n",
            "iteración 25\n",
            "temperatura restante: 777.8213593991466\n",
            "mejor distancia 2177\n",
            "mejor solucion [12  8  9 29 33 34 38 22 30 28 19 14 16 15 37 36 35 20 32 10 41 40 24  6\n",
            "  5 13 26 11 25 23 21 39  4  1  7 17 31  0  2 27  3 18]\n",
            "\n",
            "iteración 26\n",
            "temperatura restante: 770.0431458051551\n",
            "mejor distancia 2162\n",
            "mejor solucion [12 10  9 29 33 34 38 22 30 28 19 14 16 15 37 36 35 20 32  8 41 40 24  6\n",
            "  5 13 26 11 25 23 21 39  4  1  7 17 31  0  2 27  3 18]\n",
            "\n",
            "iteración 27\n",
            "temperatura restante: 762.3427143471035\n",
            "mejor distancia 2145\n",
            "mejor solucion [12 10  8 29 33 34 38 22 30 28 19 14 16 15 37 36 35 20 32  9 41 40 24  6\n",
            "  5 13 26 11 25 23 21 39  4  1  7 17 31  0  2 27  3 18]\n",
            "\n",
            "iteración 28\n",
            "temperatura restante: 754.7192872036325\n",
            "mejor distancia 2110\n",
            "mejor solucion [12 10  8 29 33 34 38 22 30 28 19 14 16 15 37 36 35 20 32  9 24 40 41  6\n",
            "  5 13 26 11 25 23 21 39  4  1  7 17 31  0  2 27  3 18]\n",
            "\n",
            "iteración 29\n",
            "temperatura restante: 747.1720943315961\n",
            "mejor distancia 2077\n",
            "mejor solucion [12 10  8 29 33 34 38 22 30 28 19 14 16 15 37 36 35 20 32 39 24 40 41  6\n",
            "  5 13 26 11 25 23 21  9  4  1  7 17 31  0  2 27  3 18]\n",
            "\n",
            "iteración 30\n",
            "temperatura restante: 739.7003733882801\n",
            "mejor distancia 2026\n",
            "mejor solucion [12 10  8 29 33 34 38 22 30 28 19 14 16 15 37 36 35 20 32 39 24 40 21  6\n",
            "  5 13 26 11 25 23 41  9  4  1  7 17 31  0  2 27  3 18]\n",
            "\n",
            "iteración 31\n",
            "temperatura restante: 732.3033696543973\n",
            "mejor distancia 1996\n",
            "mejor solucion [12 10  8 29 33 34 38 22 30 28 19 14 16 15 37 36 35 20 32 39 24 40 21  6\n",
            "  5 13 26 11 25 41 23  9  4  1  7 17 31  0  2 27  3 18]\n",
            "\n",
            "iteración 32\n",
            "temperatura restante: 724.9803359578533\n",
            "mejor distancia 1970\n",
            "mejor solucion [12 10  8 29 32 34 38 22 30 28 19 14 16 15 37 36 35 20 33 39 24 40 21  6\n",
            "  5 13 26 11 25 41 23  9  4  1  7 17 31  0  2 27  3 18]\n",
            "\n",
            "iteración 33\n",
            "temperatura restante: 717.7305325982747\n",
            "mejor distancia 1965\n",
            "mejor solucion [12 10  8 29 32 34 38 22 30 28 19 14 16 15 37 36 35 20 33 39 24 40 21  6\n",
            "  5 13 26 11 25 41 23  9  3  1  7 17 31  0  2 27  4 18]\n",
            "\n",
            "iteración 34\n",
            "temperatura restante: 710.553227272292\n",
            "mejor distancia 1962\n",
            "mejor solucion [12 10  8 29 32 34 38 22 30 28 19 14 16 15 37 36 35 20 33 39 24 40 21  6\n",
            "  5 13 26 11 25 41 23  9  3  1  7 17 31  0 27  2  4 18]\n",
            "\n",
            "iteración 35\n",
            "temperatura restante: 703.4476949995691\n",
            "mejor distancia 1960\n",
            "mejor solucion [12 10  8 29 32 34 38 22 30 28 19 14 16 15 37 36 35 20 33 39 24 40 21  6\n",
            "  5 26 13 11 25 41 23  9  3  1  7 17 31  0 27  2  4 18]\n",
            "\n",
            "iteración 36\n",
            "temperatura restante: 696.4132180495734\n",
            "mejor distancia 1954\n",
            "mejor solucion [12 10  8 29 32 34 38 22 30 28 19 14 16 15 37 36 35 20 33 39 24 40 21  6\n",
            " 26  5 13 11 25 41 23  9  3  1  7 17 31  0 27  2  4 18]\n",
            "\n",
            "iteración 37\n",
            "temperatura restante: 689.4490858690776\n",
            "mejor distancia 1951\n",
            "mejor solucion [12 10  8 29 32 34 38 22 30  6 19 14 16 15 37 36 35 20 33 39 24 40 21 28\n",
            " 26  5 13 11 25 41 23  9  3  1  7 17 31  0 27  2  4 18]\n",
            "\n",
            "iteración 38\n",
            "temperatura restante: 682.5545950103868\n",
            "mejor distancia 1929\n",
            "mejor solucion [12 10  8 29 32 34 38 22 30  6 19 14 16 15 37 36 35 20 33 39 24 40 21  9\n",
            " 26  5 13 11 25 41 23 28  3  1  7 17 31  0 27  2  4 18]\n",
            "\n",
            "iteración 39\n",
            "temperatura restante: 675.7290490602829\n",
            "mejor distancia 1929\n",
            "mejor solucion [12 10  8 29 32 34 38 22 30  6 19 14 16 15 37 36 35 20 33 39 24 40 21  9\n",
            " 26  5 13 11 25 41 23 28  3  1  7 17 31  0 27  2  4 18]\n",
            "\n",
            "iteración 40\n",
            "temperatura restante: 668.9717585696801\n",
            "mejor distancia 1929\n",
            "mejor solucion [12 10  8 29 32 34 38 22 30  6 19 14 16 15 37 36 35 20 33 39 24 40 21  9\n",
            " 26  5 13 11 25 41 23 28  3  1  7 17 31  0 27  2  4 18]\n",
            "\n",
            "iteración 41\n",
            "temperatura restante: 662.2820409839833\n",
            "mejor distancia 1922\n",
            "mejor solucion [12 10  8 29 32 34 38 22 30  6 19 14 16 15 37 36 35 20 33 39 24 40 21  9\n",
            " 26  5 13 11 25 41 23 28  2 27  0 17 31  7  1  3  4 18]\n",
            "\n",
            "iteración 42\n",
            "temperatura restante: 655.6592205741434\n",
            "mejor distancia 1911\n",
            "mejor solucion [12 10  8 29 32 34 38 22 30  6 19 14 16 15 37 36 35 20 33 39 24 40 21  9\n",
            " 26  5 13 11 25 41 23 28  2 27  0 31 17  7  1  3  4 18]\n",
            "\n",
            "iteración 43\n",
            "temperatura restante: 649.102628368402\n",
            "mejor distancia 1911\n",
            "mejor solucion [12 10  8 29 32 34 38 22 30  6 19 14 16 15 37 36 35 20 33 39 24 40 21  9\n",
            " 26  5 13 11 25 41 23 28  2 27  0 31 17  7  1  3  4 18]\n",
            "\n",
            "iteración 44\n",
            "temperatura restante: 642.6116020847179\n",
            "mejor distancia 1899\n",
            "mejor solucion [12 10 29 28 32 34 38 22 30  6 19 14 16 15 37 36 35 20 33 39 24 40 21  9\n",
            " 26  5 13 11 25 41 23  8  2 27  0 31 17  7  1  3  4 18]\n",
            "\n",
            "iteración 45\n",
            "temperatura restante: 636.1854860638707\n",
            "mejor distancia 1895\n",
            "mejor solucion [12 10 29 30 32 34 38 22 28  6 19 14 16 15 37 36 35 20 33 39 24 40 21  9\n",
            " 26  5 13 11 25 41 23  8  2 27  0 31 17  7  1  3  4 18]\n",
            "\n",
            "iteración 46\n",
            "temperatura restante: 629.823631203232\n",
            "mejor distancia 1895\n",
            "mejor solucion [12 10 29 30 32 34 38 22 28  6 19 14 16 15 37 36 35 20 33 39 24 40 21  9\n",
            " 26  5 13 11 25 41 23  8  2 27  0 31 17  7  1  3  4 18]\n",
            "\n",
            "iteración 47\n",
            "temperatura restante: 623.5253948911997\n",
            "mejor distancia 1895\n",
            "mejor solucion [12 10 29 30 32 34 38 22 28  6 19 14 16 15 37 36 35 20 33 39 24 40 21  9\n",
            " 26  5 13 11 25 41 23  8  2 27  0 31 17  7  1  3  4 18]\n",
            "\n",
            "iteración 48\n",
            "temperatura restante: 617.2901409422876\n",
            "mejor distancia 1895\n",
            "mejor solucion [12 10 29 30 32 34 38 22 28  6 19 14 16 15 37 36 35 20 33 39 24 40 21  9\n",
            " 26  5 13 11 25 41 23  8  2 27  0 31 17  7  1  3  4 18]\n",
            "\n",
            "iteración 49\n",
            "temperatura restante: 611.1172395328647\n",
            "mejor distancia 1895\n",
            "mejor solucion [12 10 29 30 32 34 38 22 28  6 19 14 16 15 37 36 35 20 33 39 24 40 21  9\n",
            " 26  5 13 11 25 41 23  8  2 27  0 31 17  7  1  3  4 18]\n",
            "\n",
            "iteración 50\n",
            "temperatura restante: 605.006067137536\n",
            "mejor distancia 1895\n",
            "mejor solucion [12 10 29 30 32 34 38 22 28  6 19 14 16 15 37 36 35 20 33 39 24 40 21  9\n",
            " 26  5 13 11 25 41 23  8  2 27  0 31 17  7  1  3  4 18]\n",
            "\n",
            "en la iteración 50 la mejor solución encontrada es: [12 10 29 30 32 34 38 22 28  6 19 14 16 15 37 36 35 20 33 39 24 40 21  9\n",
            " 26  5 13 11 25 41 23  8  2 27  0 31 17  7  1  3  4 18]\n",
            "Distancia 1895\n"
          ],
          "name": "stdout"
        }
      ]
    },
    {
      "cell_type": "code",
      "metadata": {
        "colab": {
          "base_uri": "https://localhost:8080/"
        },
        "id": "Uhz8b4YfgbHl",
        "outputId": "f01624e7-ca04-4d8d-bc1a-971a42fa131d"
      },
      "source": [
        "# comparación de ambos métodos de recocido simulado: vecino aleatorio vs el mejor vecino\r\n",
        "num_simulaciones = 10\r\n",
        "distancias_rc_normal = []\r\n",
        "distancias_rc_modif = []\r\n",
        "for i in range(num_simulaciones):\r\n",
        "  print(f\"simulación # {i}\")\r\n",
        "  solucion = crear_solucion(42)\r\n",
        "  _, dist_rc_normal, _ = recocido_simulado(problem, 100000,max_iter=10000)\r\n",
        "  _, dist_rc_modif, _ = recocido_simulado(problem, 1000,mejor_vecino=True, max_iter=50)\r\n",
        "  distancias_rc_normal.append(dist_rc_normal)\r\n",
        "  distancias_rc_modif.append(dist_rc_modif)"
      ],
      "execution_count": 183,
      "outputs": [
        {
          "output_type": "stream",
          "text": [
            "simulación # 0\n",
            "simulación # 1\n",
            "simulación # 2\n",
            "simulación # 3\n",
            "simulación # 4\n",
            "simulación # 5\n",
            "simulación # 6\n",
            "simulación # 7\n",
            "simulación # 8\n",
            "simulación # 9\n"
          ],
          "name": "stdout"
        }
      ]
    },
    {
      "cell_type": "code",
      "metadata": {
        "colab": {
          "base_uri": "https://localhost:8080/"
        },
        "id": "EqiJhMm93ZmP",
        "outputId": "1caab5cd-e407-45b2-8969-3720a80c26bb"
      },
      "source": [
        "print(\"distancias del recocido simulado normal:\", distancias_rc_normal)\r\n",
        "print(\"distancias del recocido simulado modificado:\",distancias_rc_modif)"
      ],
      "execution_count": 186,
      "outputs": [
        {
          "output_type": "stream",
          "text": [
            "distancias del recocido simulado normal: [2083, 2158, 1925, 2021, 2029, 1989, 1895, 2014, 1770, 2086]\n",
            "distancias del recocido simulado modificado: [1680, 1761, 1742, 1518, 1714, 1785, 1660, 1833, 1842, 1606]\n"
          ],
          "name": "stdout"
        }
      ]
    },
    {
      "cell_type": "code",
      "metadata": {
        "colab": {
          "base_uri": "https://localhost:8080/"
        },
        "id": "Vz_cMwtB3Zos",
        "outputId": "c1178b7d-87c8-4587-b0c7-3a9ee710fabb"
      },
      "source": [
        "print(\"media de distancias del recocido simulado normal:\",np.mean(distancias_rc_normal))\r\n",
        "print(\"media de distancias del recocido simulado modificado:\",np.mean(distancias_rc_modif))"
      ],
      "execution_count": 188,
      "outputs": [
        {
          "output_type": "stream",
          "text": [
            "media de distancias del recocido simulado normal: 1997.0\n",
            "media de distancias del recocido simulado modificado: 1714.1\n"
          ],
          "name": "stdout"
        }
      ]
    },
    {
      "cell_type": "markdown",
      "metadata": {
        "id": "ir-DKqwbwXpB"
      },
      "source": [
        "Se puede observar cómo en vez de trabajar con un vecino aleatorio, si buscamos todos los vecinos a la vez y trabajamos con el mejor, el algorimto obtiene mejores resultados.\r\n",
        "\r\n",
        "La comparación explícita es: en recocido simulado con vecino aleatorio se encontraban soluciones en una media de distancia superior a la media de distancia del método del mejor vecino"
      ]
    },
    {
      "cell_type": "code",
      "metadata": {
        "id": "SPEVZc_r3ZqS"
      },
      "source": [
        ""
      ],
      "execution_count": 188,
      "outputs": []
    },
    {
      "cell_type": "code",
      "metadata": {
        "id": "UvC2qcpyghlQ"
      },
      "source": [
        ""
      ],
      "execution_count": 191,
      "outputs": []
    },
    {
      "cell_type": "code",
      "metadata": {
        "id": "88TySXdvjNxk"
      },
      "source": [
        ""
      ],
      "execution_count": null,
      "outputs": []
    }
  ]
}